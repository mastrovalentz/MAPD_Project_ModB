{
 "cells": [
  {
   "cell_type": "markdown",
   "metadata": {},
   "source": [
    "<hr style=\"border-top-width:4px; border-top-color: #2188bf;\">\n",
    "<img align=\"right\" src=\"images/Logo_Università_Padova.png\" alt=\"Drawing\" style=\"width: 300px\"/>\n",
    "<img align=\"right\" src=\"images/Logo_Physics_of_Data.jpg\" alt=\"Drawing\" style=\"width: 135px\"/>\n",
    "\n",
    "# MAPD (mod.B) Final Project\n",
    "# Data Management exercises\n",
    "\n",
    "### Authors\n",
    "* [Ardino Rocco](https://github.com/RoccoA97) (University of Padua)\n",
    "* [Pagano Alice](https://github.com/AlicePagano) (University of Padua)\n",
    "* [Valente Alessandro](https://github.com/mastrovalentz) (University of Padua)\n",
    "\n",
    "<hr style=\"border-top-width:4px; border-top-color: #2188bf;\">\n",
    "<br>\n",
    "<br>\n",
    "<br>\n",
    "<br>\n",
    "<br>\n",
    "<hr style=\"border-top-width:4px; border-top-color: #2188bf;\">\n",
    "\n",
    "# Index <a class=\"anchor\" id=\"MAPD_B_FP.i\"></a>\n",
    "\n",
    "* 1. [**Introduction**](#MAPD_B_FP.1.)\n",
    "    * 1.1. [**Needed packages**](#MAPD_B_FP.1.1.)\n",
    "* 2. [**Redundancy**](#MAPD_B_FP.2.)\n",
    "    * 2.1. [**Reading input data in loop and writing stripe files**](#MAPD_B_FP.2.1.)\n",
    "    * 2.2. [**Column-wise parity**](#MAPD_B_FP.2.2.)\n",
    "    * 2.3. [**5-byte parity value**](#MAPD_B_FP.2.3.)\n",
    "    * 2.4. [**Row-wise parities of the five stripe files**](#MAPD_B_FP.2.4.)\n",
    "    * 2.5. [**Reconstruct input file with stripe files**](#MAPD_B_FP.2.5.)\n",
    "* 3. [**Cryptography**](#MAPD_B_FP.3.)\n",
    "    * 3.1. [**Symmetric or asymmetric encription?**](#MAPD_B_FP.3.1.)\n",
    "    * 3.2. [**Recover the original message**](#MAPD_B_FP.3.2.)\n",
    "* 4. [**Cloud storage technology**](#MAPD_B_FP.4.)\n",
    "    * 4.1. [**Simulate the placement of 10GB files to random locations**](#MAPD_B_FP.4.1.)\n",
    "    * 4.2. [**Simulate the placement of $\\pmb{N}$GB files to random locations**](#MAPD_B_FP.4.2.)\n",
    "    * 4.3. [**Free space left as a function of file size**](#MAPD_B_FP.4.3.)\n",
    "\n",
    "<hr style=\"border-top-width:4px; border-top-color: #2188bf;\">\n",
    "<br>\n",
    "<br>\n",
    "<br>\n",
    "<br>\n",
    "<br>"
   ]
  },
  {
   "cell_type": "markdown",
   "metadata": {},
   "source": [
    "<hr style=\"border-top-width:4px; border-top-color: #2188bf;\">\n",
    "\n",
    "## 1. - Introduction <a class=\"anchor\" id=\"MAPD_B_FP.1.\"></a>\n",
    "* [Index](#MAPD_B_FP.i)\n",
    "\n",
    "This assignment covers three topics:\n",
    "* redundancy;\n",
    "* cryptography;\n",
    "* cloud storage technology."
   ]
  },
  {
   "cell_type": "markdown",
   "metadata": {},
   "source": [
    "<br>\n",
    "<br>\n",
    "\n",
    "### 1.1. - Needed packages <a class=\"anchor\" id=\"MAPD_B_FP.1.1.\"></a>"
   ]
  },
  {
   "cell_type": "code",
   "execution_count": 1,
   "metadata": {
    "ExecuteTime": {
     "end_time": "2020-07-21T11:27:16.518045Z",
     "start_time": "2020-07-21T11:27:16.513783Z"
    }
   },
   "outputs": [],
   "source": [
    "import numpy as np\n",
    "import random\n",
    "import matplotlib.pyplot as plt\n",
    "import bokeh.palettes as palette\n",
    "\n",
    "import enchant\n",
    "from enchant.tokenize import get_tokenizer"
   ]
  },
  {
   "cell_type": "markdown",
   "metadata": {},
   "source": [
    "<hr style=\"border-top-width:4px; border-top-color: #2188bf;\">\n",
    "<br>\n",
    "<br>\n",
    "<br>\n",
    "<br>\n",
    "<br>\n",
    "<hr style=\"border-top-width:4px; border-top-color: #2188bf;\">\n",
    "\n",
    "## 2. - Redundancy <a class=\"anchor\" id=\"MAPD_B_FP.2.\"></a>\n",
    "* [Index](#MAPD_B_FP.i)\n",
    "\n",
    "We program a file based RAID-4 software algorithm. For this purpose, we convert a single input (raid4.input) file into four data files (raid4.0, raid4.1, raid4.2, raid4.3) and one parity file (raid4.4). In particular, we call the four data and one parity files as **stripe files**.\n",
    "<br>\n",
    "<br>"
   ]
  },
  {
   "cell_type": "markdown",
   "metadata": {},
   "source": [
    "### 2.1. - Reading input data in loop and writing stripe files <a class=\"anchor\" id=\"MAPD_B_FP.2.1.\"></a>\n",
    "\n",
    "To do this we are reading in a loop sequentially blocks of four bytes from the input file until the whole file is read:\n",
    "\n",
    "* in each loop we write one of the four read bytes round-robin to each data file, compute the **row-wise** parity of the four input bytes and write the result into the fifth parity file;\n",
    "\n",
    "* we continue until all input data has been read. If the last bytes read from the input file are not filling four bytes, we consider the missing bytes as zero for the parity computation."
   ]
  },
  {
   "cell_type": "code",
   "execution_count": 2,
   "metadata": {
    "ExecuteTime": {
     "end_time": "2020-07-21T08:23:01.850638Z",
     "start_time": "2020-07-21T08:23:01.847973Z"
    }
   },
   "outputs": [],
   "source": [
    "# Number of bytes to be read \n",
    "# from the input file at each loop\n",
    "N = 4"
   ]
  },
  {
   "cell_type": "code",
   "execution_count": 3,
   "metadata": {
    "ExecuteTime": {
     "end_time": "2020-07-21T08:26:06.872888Z",
     "start_time": "2020-07-21T08:26:06.694771Z"
    }
   },
   "outputs": [],
   "source": [
    "# Create output files\n",
    "f0 = open(\"raid4.0\", \"wb\")\n",
    "f1 = open(\"raid4.1\", \"wb\")\n",
    "f2 = open(\"raid4.2\", \"wb\")\n",
    "f3 = open(\"raid4.3\", \"wb\")\n",
    "f4 = open(\"raid4.4\", \"wb\")\n",
    "\n",
    "# Read input file\n",
    "with open(\"raid4.input\", \"rb\") as f:\n",
    "    # Read N bytes\n",
    "    byte4 = f.read(N)\n",
    "    \n",
    "    while byte4 != b\"\":\n",
    "        B  = [0]*N\n",
    "        BP = 0\n",
    "        \n",
    "        for i in range(N):\n",
    "            if i<len(byte4):\n",
    "                B[i] = byte4[i:(i+1)]\n",
    "            else:\n",
    "                B[i] = (0).to_bytes(1,'big')\n",
    "         \n",
    "        # Compute parity\n",
    "        for i in range(N):\n",
    "            BP ^= B[i][0]\n",
    "        \n",
    "        f0.write(B[0])\n",
    "        f1.write(B[1])\n",
    "        f2.write(B[2])\n",
    "        f3.write(B[3])\n",
    "        f4.write(BP.to_bytes(1,'big'))\n",
    "        byte4 = f.read(N)\n",
    "\n",
    "f0.close()\n",
    "f1.close()\n",
    "f2.close()\n",
    "f3.close()\n",
    "f4.close()"
   ]
  },
  {
   "cell_type": "markdown",
   "metadata": {},
   "source": [
    "We now read the output file “raid4.4” in order to check if we read correctly."
   ]
  },
  {
   "cell_type": "code",
   "execution_count": 4,
   "metadata": {},
   "outputs": [
    {
     "name": "stdout",
     "output_type": "stream",
     "text": [
      "b'w' 119\n",
      "b'\\x01' 1\n",
      "b'\\x0e' 14\n",
      "b'[' 91\n",
      "b'G' 71\n",
      "b'\\xd8' 216\n",
      "b'\\x1d' 29\n",
      "b'`' 96\n",
      "b'&' 38\n",
      "b'\\x15' 21\n"
     ]
    }
   ],
   "source": [
    "# validation\n",
    "with open(\"raid4.4\", \"rb\") as f:\n",
    "    byte = f.read(1)\n",
    "    i = 0\n",
    "    while byte != b\"\":\n",
    "        if i<10:\n",
    "            print(byte, byte[0])\n",
    "            i += 1\n",
    "        byte = f.read(1)"
   ]
  },
  {
   "cell_type": "markdown",
   "metadata": {},
   "source": [
    "<br>\n",
    "<br>\n",
    "\n",
    "### 2.2. - Column-wise parity <a class=\"anchor\" id=\"MAPD_B_FP.2.2.\"></a>\n",
    "\n",
    "Now, we compute the column-wise parity for each stripe file.\n",
    "In particular, we can say that the computed column-wise parity acts as a **check-sum** for each stripe file. "
   ]
  },
  {
   "cell_type": "markdown",
   "metadata": {},
   "source": [
    "To do this, we define a function which computes the column-wise parity by giving the input file name. "
   ]
  },
  {
   "cell_type": "code",
   "execution_count": 5,
   "metadata": {},
   "outputs": [],
   "source": [
    "def colwise_parity(filename):\n",
    "    with open(filename, \"rb\") as f:\n",
    "        byte = f.read(1)\n",
    "        BP = 0\n",
    "        while byte != b\"\":\n",
    "            BP ^= byte[0]\n",
    "            \n",
    "            byte = f.read(1)\n",
    "    \n",
    "    return hex(BP)"
   ]
  },
  {
   "cell_type": "markdown",
   "metadata": {},
   "source": [
    "Then, we compute the column-wise parity for each file."
   ]
  },
  {
   "cell_type": "code",
   "execution_count": 6,
   "metadata": {},
   "outputs": [],
   "source": [
    "q0 = colwise_parity(\"raid4.0\")\n",
    "q1 = colwise_parity(\"raid4.1\")\n",
    "q2 = colwise_parity(\"raid4.2\")\n",
    "q3 = colwise_parity(\"raid4.3\")\n",
    "q4 = colwise_parity(\"raid4.4\")"
   ]
  },
  {
   "cell_type": "markdown",
   "metadata": {},
   "source": [
    "Here, we print the results."
   ]
  },
  {
   "cell_type": "code",
   "execution_count": 7,
   "metadata": {},
   "outputs": [
    {
     "name": "stdout",
     "output_type": "stream",
     "text": [
      "0xa5 0x7 0xa0 0x9b 0x99\n"
     ]
    }
   ],
   "source": [
    "print(q0, q1, q2, q3, q4)"
   ]
  },
  {
   "cell_type": "markdown",
   "metadata": {},
   "source": [
    "We compute the size overhead by comparing the sizes of all 5 stripe files with the original file. \n",
    "\n",
    "The **size overhead** is **25%**."
   ]
  },
  {
   "cell_type": "markdown",
   "metadata": {},
   "source": [
    "<br>\n",
    "<br>\n",
    "\n",
    "### 2.3. - 5-byte parity value <a class=\"anchor\" id=\"MAPD_B_FP.2.3.\"></a>\n",
    "\n",
    "We compute the 5-byte parity value by writing it in hexadecimal format like: \n",
    "\n",
    "$\n",
    "P^5 =0x[q_0][q_1][q_2][q_3][q_4] \n",
    "$\n",
    "\n",
    "where the $[q_x]$ are the hexadecimal parity bytes computed by XORing all bytes in each stripe file. \n",
    "Note that a byte in hexadecimal has two digits and a leading 0 is automatically added if necessary. "
   ]
  },
  {
   "cell_type": "code",
   "execution_count": 8,
   "metadata": {
    "ExecuteTime": {
     "end_time": "2020-07-21T08:42:26.023764Z",
     "start_time": "2020-07-21T08:42:25.823216Z"
    }
   },
   "outputs": [],
   "source": [
    "# Compute 5-byte parity\n",
    "P5 = (int(q0,16)<<32) | (int(q1,16)<<24)| (int(q2,16)<<16) | (int(q3,16)<<8) | int(q4,16)"
   ]
  },
  {
   "cell_type": "markdown",
   "metadata": {},
   "source": [
    "The result is the following:"
   ]
  },
  {
   "cell_type": "code",
   "execution_count": 9,
   "metadata": {},
   "outputs": [
    {
     "data": {
      "text/plain": [
       "'0xa507a09b99'"
      ]
     },
     "execution_count": 9,
     "metadata": {},
     "output_type": "execute_result"
    }
   ],
   "source": [
    "hex(P5)"
   ]
  },
  {
   "cell_type": "markdown",
   "metadata": {},
   "source": [
    "<br>\n",
    "<br>\n",
    "\n",
    "### 2.4. - Row-wise parities of the five stripe files <a class=\"anchor\" id=\"MAPD_B_FP.2.4.\"></a>"
   ]
  },
  {
   "cell_type": "markdown",
   "metadata": {},
   "source": [
    "If we create a sixth stripe file, which contains the row-wise parities of the five stripe files, the content of this file will be all zeros since the operation applied would be $P~ \\hat{~} P$. \n",
    "\n",
    "Let us verify it."
   ]
  },
  {
   "cell_type": "code",
   "execution_count": 10,
   "metadata": {
    "ExecuteTime": {
     "end_time": "2020-07-21T08:47:12.500495Z",
     "start_time": "2020-07-21T08:47:12.492859Z"
    }
   },
   "outputs": [],
   "source": [
    "# Number of bytes to be read \n",
    "# from the input file at each loop\n",
    "N = 4"
   ]
  },
  {
   "cell_type": "code",
   "execution_count": 11,
   "metadata": {
    "ExecuteTime": {
     "end_time": "2020-07-21T08:47:13.522144Z",
     "start_time": "2020-07-21T08:47:13.298929Z"
    }
   },
   "outputs": [],
   "source": [
    "# Create output files\n",
    "f0 = open(\"raid4.0\", \"wb\")\n",
    "f1 = open(\"raid4.1\", \"wb\")\n",
    "f2 = open(\"raid4.2\", \"wb\")\n",
    "f3 = open(\"raid4.3\", \"wb\")\n",
    "f4 = open(\"raid4.4\", \"wb\")\n",
    "f5 = open(\"raid4.5\", \"wb\")\n",
    "\n",
    "# Read input file\n",
    "with open(\"raid4.input\", \"rb\") as f:\n",
    "    # Read N bytes\n",
    "    byte4 = f.read(N)\n",
    "    \n",
    "    while byte4 != b\"\":\n",
    "        B   = [0]*N\n",
    "        BP  = 0\n",
    "        BPP = 0\n",
    "        \n",
    "        for i in range(N):\n",
    "            if i<len(byte4):\n",
    "                B[i] = byte4[i:(i+1)]\n",
    "            else:\n",
    "                B[i] = (0).to_bytes(1,'big')\n",
    "            \n",
    "        for i in range(N):\n",
    "            BP  ^= B[i][0]\n",
    "            BPP ^= B[i][0]\n",
    "        \n",
    "        BPP ^= BP\n",
    "         \n",
    "        f0.write(B[0])\n",
    "        f1.write(B[1])\n",
    "        f2.write(B[2])\n",
    "        f3.write(B[3])\n",
    "        f4.write(BP.to_bytes(1,'big'))\n",
    "        f5.write(BPP.to_bytes(1,'big'))\n",
    "        byte4 = f.read(N)\n",
    "\n",
    "f0.close()\n",
    "f1.close()\n",
    "f2.close()\n",
    "f3.close()\n",
    "f4.close()\n",
    "f5.close()"
   ]
  },
  {
   "cell_type": "markdown",
   "metadata": {
    "ExecuteTime": {
     "end_time": "2020-07-21T08:47:37.141565Z",
     "start_time": "2020-07-21T08:47:37.136391Z"
    }
   },
   "source": [
    "Here, we check the result. As expected, the parity file will contain all zeros."
   ]
  },
  {
   "cell_type": "code",
   "execution_count": 12,
   "metadata": {
    "ExecuteTime": {
     "end_time": "2020-07-21T08:47:42.130968Z",
     "start_time": "2020-07-21T08:47:42.112784Z"
    }
   },
   "outputs": [
    {
     "name": "stdout",
     "output_type": "stream",
     "text": [
      "b'\\x00' 0\n",
      "b'\\x00' 0\n",
      "b'\\x00' 0\n",
      "b'\\x00' 0\n",
      "b'\\x00' 0\n",
      "b'\\x00' 0\n",
      "b'\\x00' 0\n",
      "b'\\x00' 0\n",
      "b'\\x00' 0\n",
      "b'\\x00' 0\n"
     ]
    }
   ],
   "source": [
    "# validation\n",
    "with open(\"raid4.5\", \"rb\") as f:\n",
    "    byte = f.read(1)\n",
    "    i = 0\n",
    "    while byte != b\"\":\n",
    "        if i<10:\n",
    "            print(byte, byte[0])\n",
    "            i += 1\n",
    "        byte = f.read(1)"
   ]
  },
  {
   "cell_type": "markdown",
   "metadata": {},
   "source": [
    "<br>\n",
    "<br>\n",
    "\n",
    "### 2.5. - Reconstruct input file with stripe files <a class=\"anchor\" id=\"MAPD_B_FP.2.5.\"></a>\n",
    "\n",
    "After some time, we recompute the 5-byte parity value as in [this section](#MAPD_B_FP.2.3.).\n",
    "\n",
    "Let us suppose that now the result is $P^5 = \\text{0x ff 07 a0 9b 99}$, hence something has been corrupted. We want to reconstruct the original file “raid4.input” using the 5 stripe files. So, we first need to reconstruct the stripe files which are corrupted.\n",
    "\n",
    "For instance, if the first stripe “raid4.0” is corrupted, we can reconstruct it through:\n",
    "\n",
    "$$\n",
    "P \\hat{} x_2 \\hat{} x_3 \\hat{} x_4\n",
    "=\n",
    "x_1 \\hat{} x_2 \\hat{} x_3 \\hat{} x_4 \\hat{} x_2 \\hat{} x_3 \\hat{} x_4\n",
    "=\n",
    "x_1 \\hat{} 0 \\hat{} 0 \\hat{} 0\n",
    "=\n",
    "x_1\n",
    "$$\n",
    "\n",
    "where $P$ is the parity stripe (“raid4.4”) and $x_2,x_3,x_4$ are respectively “raid4.1”, “raid4.2”, “raid4.3”."
   ]
  },
  {
   "cell_type": "code",
   "execution_count": 13,
   "metadata": {
    "ExecuteTime": {
     "end_time": "2020-07-21T11:07:16.650939Z",
     "start_time": "2020-07-21T11:07:16.631857Z"
    }
   },
   "outputs": [
    {
     "name": "stdout",
     "output_type": "stream",
     "text": [
      "b'%' \t b'%'\n",
      "b'-' \t b'-'\n",
      "b'\\n' \t b'\\n'\n",
      "b'\\xf2' \t b'\\xf2'\n",
      "b'\\xf3' \t b'\\xf3'\n",
      "b'\\xc6' \t b'\\xc6'\n",
      "b'0' \t b'0'\n",
      "b'j' \t b'j'\n",
      "b' ' \t b' '\n",
      "b'n' \t b'n'\n",
      "b' ' \t b' '\n",
      "b' ' \t b' '\n",
      "b'F' \t b'F'\n",
      "b'e' \t b'e'\n",
      "b'F' \t b'F'\n",
      "b'e' \t b'e'\n",
      "b'o' \t b'o'\n",
      "b'>' \t b'>'\n",
      "b't' \t b't'\n",
      "b'm' \t b'm'\n"
     ]
    }
   ],
   "source": [
    "# Open stripe files\n",
    "f0 = open(\"raid4.0\", \"rb\")\n",
    "f1 = open(\"raid4.1\", \"rb\")\n",
    "f2 = open(\"raid4.2\", \"rb\")\n",
    "f3 = open(\"raid4.3\", \"rb\")\n",
    "f4 = open(\"raid4.4\", \"rb\")\n",
    "\n",
    "# Read the first byte for each stripe\n",
    "byte0 = f0.read(1)\n",
    "byte1 = f1.read(1)\n",
    "byte2 = f2.read(1)\n",
    "byte3 = f3.read(1)\n",
    "byte4 = f4.read(1)\n",
    "\n",
    "i = 0\n",
    "while byte0 != b\"\" and i<20:\n",
    "    # Compute the parity between the stripe files\n",
    "    P = byte4[0] ^ byte1[0] ^ byte2[0] ^ byte3[0]\n",
    "    print(byte0, \"\\t\", P.to_bytes(1,'big'))\n",
    "    i += 1\n",
    "    byte0 = f0.read(1)\n",
    "    byte1 = f1.read(1)\n",
    "    byte2 = f2.read(1)\n",
    "    byte3 = f3.read(1)\n",
    "    byte4 = f4.read(1)\n",
    "\n",
    "f0.close()\n",
    "f1.close()\n",
    "f2.close()\n",
    "f3.close()\n",
    "f4.close()"
   ]
  },
  {
   "cell_type": "markdown",
   "metadata": {},
   "source": [
    "To check if everything is ok (missing or corrupted bits), it is useful to store also the file size somewhere."
   ]
  },
  {
   "cell_type": "markdown",
   "metadata": {},
   "source": [
    "<hr style=\"border-top-width:4px; border-top-color: #2188bf;\">\n",
    "<br>\n",
    "<br>\n",
    "<br>\n",
    "<br>\n",
    "<br>\n",
    "<hr style=\"border-top-width:4px; border-top-color: #2188bf;\">\n",
    "\n",
    "## 3. - Cryptography <a class=\"anchor\" id=\"MAPD_B_FP.3.\"></a>\n",
    "* [Index](#MAPD_B_FP.i)\n",
    "\n",
    "A friend has emailed we the following text: **K]amua!kv$huvt**.\n",
    "\n",
    "She told that her encryption algorithm works like this:\n",
    "\n",
    "* to each ASCII value of each letter I add a secret key value (note that ASCII values range from 0 to 255);\n",
    "\n",
    "* additionally to make it more secure I add a variable (so called) **nonce** value to each ASCII number.\n",
    "The nonce start value is 0 for the first character of the message. For each following character I increase the nonce by 1, e.g. for the second letter the nonce added is 1, for the third letter it is 2, and so on.\n",
    "\n",
    "Hence, the encription of the message is obtained by the following formula:\n",
    "\n",
    "     encoded_character[i] = character[i] + key + nonce(i)\n",
    "<br>\n",
    "<br>"
   ]
  },
  {
   "cell_type": "markdown",
   "metadata": {},
   "source": [
    "### 3.1. - Symmetric or asymmetric encription? <a class=\"anchor\" id=\"MAPD_B_FP.3.1.\"></a>\n",
    "\n",
    "This is a symmetric encription since we can encode and decode the message using the same key."
   ]
  },
  {
   "cell_type": "markdown",
   "metadata": {},
   "source": [
    "<br>\n",
    "<br>\n",
    "\n",
    "### 3.2. - Recover the original message <a class=\"anchor\" id=\"MAPD_B_FP.3.2.\"></a>\n",
    "\n",
    "We write a small brute force program which tests keys from 0 to 255. \n",
    "\n",
    "The decryption formula we use is a rearrangement of the previous formula for the encription of the message:\n",
    "\n",
    "    character[i] = encoded_character[i] - key - nonce(i)"
   ]
  },
  {
   "cell_type": "markdown",
   "metadata": {},
   "source": [
    "Here, we convert the original message into numerical values."
   ]
  },
  {
   "cell_type": "code",
   "execution_count": 14,
   "metadata": {
    "ExecuteTime": {
     "end_time": "2020-07-21T11:27:26.579610Z",
     "start_time": "2020-07-21T11:27:26.573806Z"
    }
   },
   "outputs": [
    {
     "name": "stdout",
     "output_type": "stream",
     "text": [
      "Original text     :  K]amua!kv$huvt\n",
      "Encoded ASCII text:  [ 75  93  97 109 117  97  33 107 118  36 104 117 118 116]\n"
     ]
    }
   ],
   "source": [
    "text_encoded = \"K]amua!kv$huvt\"\n",
    "\n",
    "nonce         = np.arange(0,len(text_encoded),dtype=int)\n",
    "text_ascii    = np.array([ord(l) for l in text_encoded])\n",
    "\n",
    "print('Original text     : ', text_encoded)\n",
    "print('Encoded ASCII text: ', text_ascii)"
   ]
  },
  {
   "cell_type": "markdown",
   "metadata": {},
   "source": [
    "Here, we apply the brute force approach. "
   ]
  },
  {
   "cell_type": "code",
   "execution_count": 15,
   "metadata": {
    "ExecuteTime": {
     "end_time": "2020-07-21T11:27:27.641776Z",
     "start_time": "2020-07-21T11:27:27.569027Z"
    }
   },
   "outputs": [
    {
     "name": "stdout",
     "output_type": "stream",
     "text": [
      "Key:  0  Decription:  K\\_jq\\\u001bdn\u001b^jjg\n",
      "Key:  1  Decription:  J[^ip[\u001acm\u001a]iif\n",
      "Key:  2  Decription:  IZ]hoZ\u0019bl\u0019\\hhe\n",
      "Key:  3  Decription:  HY\\gnY\u0018ak\u0018[ggd\n",
      "Key:  4  Decription:  GX[fmX\u0017`j\u0017Zffc\n",
      "Key:  5  Decription:  FWZelW\u0016_i\u0016Yeeb\n",
      "Key:  6  Decription:  EVYdkV\u0015^h\u0015Xdda\n",
      "Key:  7  Decription:  DUXcjU\u0014]g\u0014Wcc`\n",
      "Key:  8  Decription:  CTWbiT\u0013\\f\u0013Vbb_\n",
      "Key:  9  Decription:  BSVahS\u0012[e\u0012Uaa^\n",
      "Key:  10  Decription:  ARU`gR\u0011Zd\u0011T``]\n",
      "Key:  11  Decription:  @QT_fQ\u0010Yc\u0010S__\\\n",
      "Key:  12  Decription:  ?PS^eP\u000fXb\u000fR^^[\n",
      "Key:  13  Decription:  >OR]dO\u000eWa\u000eQ]]Z\n",
      "P\\\\Y  14  Decription:  =NQ\\cN\n",
      "Key:  15  Decription:  <MP[bM\f",
      "U_\f",
      "O[[X\n",
      "Key:  16  Decription:  ;LOZaL\u000b",
      "T^\u000b",
      "NZZW\n",
      "Key:  17  Decription:  :KNY`K\n",
      "S]\n",
      "MYYV\n",
      "Key:  18  Decription:  9JMX_J\tR\\\tLXXU\n",
      "Key:  19  Decription:  8ILW^QKWWT\n",
      "Key:  20  Decription:  7HKV]H\u0007PZ\u0007JVVS\n",
      "Key:  21  Decription:  6GJU\\G\u0006OY\u0006IUUR\n",
      "Key:  22  Decription:  5FIT[F\u0005NX\u0005HTTQ\n",
      "Key:  23  Decription:  4EHSZE\u0004MW\u0004GSSP\n",
      "Key:  24  Decription:  3DGRYD\u0003LV\u0003FRRO\n",
      "Key:  25  Decription:  2CFQXC\u0002KU\u0002EQQN\n",
      "Key:  26  Decription:  1BEPWB\u0001JT\u0001DPPM\n",
      "Key:  27  Decription:  0ADOVA\u0000IS\u0000COOL\n",
      "Key:  28  Decription:  /@CNU@ÿHRÿBNNK\n",
      "Key:  29  Decription:  .?BMT?þGQþAMMJ\n",
      "Key:  30  Decription:  ->ALS>ýFPý@LLI\n",
      "Key:  31  Decription:  ,=@KR=üEOü?KKH\n",
      "Key:  32  Decription:  +<?JQ<ûDNû>JJG\n",
      "Key:  33  Decription:  *;>IP;úCMú=IIF\n",
      "Key:  34  Decription:  ):=HO:ùBLù<HHE\n",
      "Key:  35  Decription:  (9<GN9øAKø;GGD\n",
      "Key:  36  Decription:  '8;FM8÷@J÷:FFC\n",
      "Key:  37  Decription:  &7:EL7ö?Iö9EEB\n",
      "Key:  38  Decription:  %69DK6õ>Hõ8DDA\n",
      "Key:  39  Decription:  $58CJ5ô=Gô7CC@\n",
      "Key:  40  Decription:  #47BI4ó<Fó6BB?\n",
      "Key:  41  Decription:  \"36AH3ò;Eò5AA>\n",
      "Key:  42  Decription:  !25@G2ñ:Dñ4@@=\n",
      "Key:  43  Decription:   14?F1ð9Cð3??<\n",
      "Key:  44  Decription:  \u001f03>E0ï8Bï2>>;\n",
      "Key:  45  Decription:  \u001e",
      "/2=D/î7Aî1==:\n",
      "Key:  46  Decription:  \u001d",
      ".1<C.í6@í0<<9\n",
      "Key:  47  Decription:  \u001c",
      "-0;B-ì5?ì/;;8\n",
      "Key:  48  Decription:  \u001b,/:A,ë4>ë.::7\n",
      "Key:  49  Decription:  \u001a+.9@+ê3=ê-996\n",
      "Key:  50  Decription:  \u0019*-8?*é2<é,885\n",
      "Key:  51  Decription:  \u0018),7>)è1;è+774\n",
      "Key:  52  Decription:  \u0017(+6=(ç0:ç*663\n",
      "Key:  53  Decription:  \u0016'*5<'æ/9æ)552\n",
      "Key:  54  Decription:  \u0015&)4;&å.8å(441\n",
      "Key:  55  Decription:  \u0014%(3:%ä-7ä'330\n",
      "Key:  56  Decription:  \u0013$'29$ã,6ã&22/\n",
      "Key:  57  Decription:  \u0012#&18#â+5â%11.\n",
      "Key:  58  Decription:  \u0011\"%07\"á*4á$00-\n",
      "Key:  59  Decription:  \u0010!$/6!à)3à#//,\n",
      "Key:  60  Decription:  \u000f #.5 ß(2ß\"..+\n",
      "Key:  61  Decription:  \u000e\u001f\"-4\u001fÞ'1Þ!--*\n",
      "\u001e",
      "!,3\u001e",
      "Ý&0Ý ,,)ription:  \n",
      "Key:  63  Decription:  \f",
      "\u001d",
      " +2\u001d",
      "Ü%/Ü\u001f++(\n",
      "Key:  64  Decription:  \u000b",
      "\u001c",
      "\u001f*1\u001c",
      "Û$.Û\u001e",
      "**'\n",
      "Key:  65  Decription:  \n",
      "\u001b\u001e",
      ")0\u001bÚ#-Ú\u001d",
      "))&\n",
      "Key:  66  Decription:  \t\u001a\u001d",
      "(/\u001aÙ\",Ù\u001c",
      "((%\n",
      "Key:  67  Decription: \u0019\u001c",
      "'.\u0019Ø!+Ø\u001b''$\n",
      "Key:  68  Decription:  \u0007\u0018\u001b&-\u0018× *×\u001a&&#\n",
      "Key:  69  Decription:  \u0006\u0017\u001a%,\u0017Ö\u001f)Ö\u0019%%\"\n",
      "Key:  70  Decription:  \u0005\u0016\u0019$+\u0016Õ\u001e",
      "(Õ\u0018$$!\n",
      "Key:  71  Decription:  \u0004\u0015\u0018#*\u0015Ô\u001d",
      "'Ô\u0017## \n",
      "Key:  72  Decription:  \u0003\u0014\u0017\")\u0014Ó\u001c",
      "&Ó\u0016\"\"\u001f\n",
      "Key:  73  Decription:  \u0002\u0013\u0016!(\u0013Ò\u001b%Ò\u0015!!\u001e",
      "\n",
      "Key:  74  Decription:  \u0001\u0012\u0015 '\u0012Ñ\u001a$Ñ\u0014  \u001d",
      "\n",
      "Key:  75  Decription:  \u0000\u0011\u0014\u001f&\u0011Ð\u0019#Ð\u0013\u001f\u001f\u001c",
      "\n",
      "Key:  76  Decription:  ÿ\u0010\u0013\u001e",
      "%\u0010Ï\u0018\"Ï\u0012\u001e",
      "\u001e",
      "\u001b\n",
      "Key:  77  Decription:  þ\u000f\u0012\u001d",
      "$\u000fÎ\u0017!Î\u0011\u001d",
      "\u001d",
      "\u001a\n",
      "Key:  78  Decription:  ý\u000e\u0011\u001c",
      "#\u000eÍ\u0016 Í\u0010\u001c",
      "\u001c",
      "\u0019\n",
      "Ì\u0015\u001fÌ\u000f\u001b\u001b\u0018  Decription:  ü\n",
      "Key:  80  Decription:  û\f",
      "\u000f\u001a!\f",
      "Ë\u0014\u001e",
      "Ë\u000e\u001a\u001a\u0017\n",
      "\u0019\u0019\u0016:  81  Decription:  ú\u000b",
      "\u000e\u0019 \u000b",
      "Ê\u0013\u001d",
      "Ê\n",
      "Key:  82  Decription:  ù\n",
      "\u0018\u001f\n",
      "É\u0012\u001c",
      "É\f",
      "\u0018\u0018\u0015\n",
      "Key:  83  Decription:  ø\t\f",
      "\u0017\u001e",
      "\tÈ\u0011\u001bÈ\u000b",
      "\u0017\u0017\u0014\n",
      "Key:  84  Decription:  \u000b",
      "\u0016Ç\u0010\u001aÇ\n",
      "\u0016\u0016\u0013\n",
      "Key:  85  Decription:  ö\u0007\n",
      "\u0015\u001c",
      "\u0007Æ\u000f\u0019Æ\t\u0015\u0015\u0012\n",
      "Key:  86  Decription:  õ\u0006\t\u0014\u001b\u0006Å\u000e\u0018\u0014\u0014\u0011\n",
      "\u0017Ä\u0007\u0013\u0013\u001087  Decription:  ô\u0013\u001a\u0005Ä\n",
      "Key:  88  Decription:  ó\u0004\u0007\u0012\u0019\u0004Ã\f",
      "\u0016Ã\u0006\u0012\u0012\u000f\n",
      "Key:  89  Decription:  ò\u0003\u0006\u0011\u0018\u0003Â\u000b",
      "\u0015Â\u0005\u0011\u0011\u000e\n",
      "Key:  90  Decription:  ñ\u0002\u0005\u0010\u0017\u0002Á\n",
      "\u0014Á\u0004\u0010\u0010\n",
      "Key:  91  Decription:  ð\u0001\u0004\u000f\u0016\u0001À\t\u0013À\u0003\u000f\u000f\f",
      "\n",
      "Key:  92  Decription:  ï\u0000\u0003\u000e\u0015\u0000\u0012¿\u0002\u000e\u000e\u000b",
      "\n",
      "\u0014ÿ¾\u0007\u0011¾\u00013  Decription:  îÿ\u0002\n",
      "\n",
      "Key:  94  Decription:  íþ\u0001\f",
      "\u0013þ½\u0006\u0010½\u0000\f",
      "\f",
      "\t\n",
      "Key:  95  Decription:  ìý\u0000\u000b",
      "\u0012ý¼\u0005\u000f¼ÿ\u000b",
      "\n",
      "Key:  96  Decription:  ëüÿ\n",
      "\u0011ü»\u0004\u000e»þ\n",
      "\n",
      "\u0007\n",
      "ºý\t\t\u0006 97  Decription:  êûþ\t\u0010ûº\u0003\n",
      "Key:  98  Decription:  éú\u000fú¹\u0002\f",
      "\u0005\n",
      "Key:  99  Decription:  èùü\u0007\u000eù¸\u0001\u000b",
      "¸û\u0007\u0007\u0004\n",
      "ø·\u0000:  100  Decription:  çøû\u0006\n",
      "·ú\u0006\u0006\u0003\n",
      "Key:  101  Decription:  æ÷ú\u0005\f",
      "÷¶ÿ\t¶ù\u0005\u0005\u0002\n",
      "Key:  102  Decription:  åöù\u0004\u000b",
      "öµµø\u0004\u0004\u0001\n",
      "Key:  103  Decription:  äõø\u0003\n",
      "õ´ý\u0007´÷\u0003\u0003\u0000\n",
      "Key:  104  Decription:  ãô÷\u0002\tô³ü\u0006³ö\u0002\u0002ÿ\n",
      "Key:  105  Decription:  âóöó²û\u0005²õ\u0001\u0001þ\n",
      "Key:  106  Decription:  áòõ\u0000\u0007ò±ú\u0004±ô\u0000\u0000ý\n",
      "Key:  107  Decription:  àñôÿ\u0006ñ°ù\u0003°óÿÿü\n",
      "Key:  108  Decription:  ßðóþ\u0005ð¯ø\u0002¯òþþû\n",
      "Key:  109  Decription:  Þïòý\u0004ï®÷\u0001®ñýýú\n",
      "Key:  110  Decription:  Ýîñü\u0003î­ö\u0000­ðüüù\n",
      "Key:  111  Decription:  Üíðû\u0002í¬õÿ¬ïûûø\n",
      "Key:  112  Decription:  Ûìïú\u0001ì«ôþ«îúú÷\n",
      "Key:  113  Decription:  Úëîù\u0000ëªóýªíùùö\n",
      "Key:  114  Decription:  Ùêíøÿê©òü©ìøøõ\n",
      "Key:  115  Decription:  Øéì÷þé¨ñû¨ë÷÷ô\n",
      "Key:  116  Decription:  ×èëöýè§ðú§êööó\n",
      "Key:  117  Decription:  Öçêõüç¦ïù¦éõõò\n",
      "Key:  118  Decription:  Õæéôûæ¥îø¥èôôñ\n",
      "Key:  119  Decription:  Ôåèóúå¤í÷¤çóóð\n",
      "Key:  120  Decription:  Óäçòùä£ìö£æòòï\n",
      "Key:  121  Decription:  Òãæñøã¢ëõ¢åññî\n",
      "Key:  122  Decription:  Ñâåð÷â¡êô¡äððí\n",
      "Key:  123  Decription:  Ðáäïöá éó ãïïì\n",
      "Key:  124  Decription:  Ïàãîõàèòâîîë\n",
      "Key:  125  Decription:  Îßâíôßçñáííê\n",
      "Key:  126  Decription:  ÍÞáìóÞæðàììé\n",
      "Key:  127  Decription:  ÌÝàëòÝåïßëëè\n",
      "Key:  128  Decription:  ËÜßêñÜäîÞêêç\n",
      "Key:  129  Decription:  ÊÛÞéðÛãíÝééæ\n",
      "Key:  130  Decription:  ÉÚÝèïÚâìÜèèå\n",
      "Key:  131  Decription:  ÈÙÜçîÙáëÛççä\n",
      "Key:  132  Decription:  ÇØÛæíØàêÚææã\n",
      "Key:  133  Decription:  Æ×Úåì×ßéÙååâ\n",
      "Key:  134  Decription:  ÅÖÙäëÖÞèØääá\n",
      "Key:  135  Decription:  ÄÕØãêÕÝç×ããà\n",
      "Key:  136  Decription:  ÃÔ×âéÔÜæÖââß\n",
      "Key:  137  Decription:  ÂÓÖáèÓÛåÕááÞ\n",
      "Key:  138  Decription:  ÁÒÕàçÒÚäÔààÝ\n",
      "Key:  139  Decription:  ÀÑÔßæÑÙãÓßßÜ\n",
      "Key:  140  Decription:  ¿ÐÓÞåÐØâÒÞÞÛ\n",
      "Key:  141  Decription:  ¾ÏÒÝäÏ×áÑÝÝÚ\n",
      "Key:  142  Decription:  ½ÎÑÜãÎÖàÐÜÜÙ\n",
      "Key:  143  Decription:  ¼ÍÐÛâÍÕßÏÛÛØ\n",
      "Key:  144  Decription:  »ÌÏÚáÌÔÞÎÚÚ×\n",
      "Key:  145  Decription:  ºËÎÙàËÓÝÍÙÙÖ\n",
      "Key:  146  Decription:  ¹ÊÍØßÊÒÜÌØØÕ\n",
      "Key:  147  Decription:  ¸ÉÌ×ÞÉÑÛË××Ô\n",
      "Key:  148  Decription:  ·ÈËÖÝÈÐÚÊÖÖÓ\n",
      "Key:  149  Decription:  ¶ÇÊÕÜÇÏÙÉÕÕÒ\n",
      "Key:  150  Decription:  µÆÉÔÛÆ",
      "ÎØ",
      "ÈÔÔÑ\n",
      "Key:  151  Decription:  ´ÅÈÓÚÅÍ×ÇÓÓÐ\n",
      "Key:  152  Decription:  ³ÄÇÒÙÄÌÖÆÒÒÏ\n",
      "Key:  153  Decription:  ²ÃÆÑØÃËÕÅÑÑÎ\n",
      "Key:  154  Decription:  ±ÂÅÐ×ÂÊÔÄÐÐÍ\n",
      "Key:  155  Decription:  °ÁÄÏÖÁÉÓÃÏÏÌ\n",
      "Key:  156  Decription:  ¯ÀÃÎÕÀÈÒÂÎÎË\n",
      "Key:  157  Decription:  ®¿ÂÍÔ¿~ÇÑ~ÁÍÍÊ\n",
      "Key:  158  Decription:  ­¾ÁÌÓ¾}ÆÐ}ÀÌÌÉ\n",
      "Key:  159  Decription:  ¬½ÀËÒ½|ÅÏ|¿ËËÈ\n",
      "Key:  160  Decription:  «¼¿ÊÑ¼{ÄÎ{¾ÊÊÇ\n",
      "Key:  161  Decription:  ª»¾ÉÐ»zÃÍz½ÉÉÆ\n",
      "Key:  162  Decription:  ©º½ÈÏºyÂÌy¼ÈÈÅ\n",
      "Key:  163  Decription:  ¨¹¼ÇÎ¹xÁËx»ÇÇÄ\n",
      "Key:  164  Decription:  §¸»ÆÍ¸wÀÊwºÆÆÃ\n",
      "Key:  165  Decription:  ¦·ºÅÌ·v¿Év¹ÅÅÂ\n",
      "Key:  166  Decription:  ¥¶¹ÄË¶u¾Èu¸ÄÄÁ\n",
      "Key:  167  Decription:  ¤µ¸ÃÊµt½Çt·ÃÃÀ\n",
      "Key:  168  Decription:  £´·ÂÉ´s¼Æs¶ÂÂ¿\n",
      "Key:  169  Decription:  ¢³¶ÁÈ³r»ÅrµÁÁ¾\n",
      "Key:  170  Decription:  ¡²µÀÇ²qºÄq´ÀÀ½\n",
      "Key:  171  Decription:   ±´¿Æ±p¹Ãp³¿¿¼\n",
      "Key:  172  Decription:  °³¾Å°o¸Âo²¾¾»\n",
      "Key:  173  Decription:  ¯²½Ä¯n·Án±½½º\n",
      "Key:  174  Decription:  ®±¼Ã®m¶Àm°¼¼¹\n",
      "Key:  175  Decription:  ­°»Â­lµ¿l¯»»¸\n",
      "Key:  176  Decription:  ¬¯ºÁ¬k´¾k®ºº·\n",
      "Key:  177  Decription:  «®¹À«j³½j­¹¹¶\n",
      "Key:  178  Decription:  ª­¸¿ªi²¼i¬¸¸µ\n",
      "Key:  179  Decription:  ©¬·¾©h±»h«··´\n",
      "Key:  180  Decription:  ¨«¶½¨g°ºgª¶¶³\n",
      "Key:  181  Decription:  §ªµ¼§f¯¹f©µµ²\n",
      "Key:  182  Decription:  ¦©´»¦e®¸e¨´´±\n",
      "Key:  183  Decription:  ¥¨³º¥d­·d§³³°\n",
      "Key:  184  Decription:  ¤§²¹¤c¬¶c¦²²¯\n",
      "Key:  185  Decription:  £¦±¸£b«µb¥±±®\n",
      "Key:  186  Decription:  ¢¥°·¢aª´a¤°°­\n",
      "Key:  187  Decription:  ¡¤¯¶¡`©³`£¯¯¬\n",
      "Key:  188  Decription:   £®µ _¨²_¢®®«\n",
      "Key:  189  Decription:  ¢­´^§±^¡­­ª\n",
      "Key:  190  Decription:  ¡¬³]¦°] ¬¬©\n",
      "Key:  191  Decription:   «²\\¥¯\\««¨\n",
      "Key:  192  Decription:  ª±[¤®[ªª§\n",
      "Key:  193  Decription:  ©°Z£­Z©©¦\n",
      "Key:  194  Decription:  ¨¯Y¢¬Y¨¨¥\n",
      "Key:  195  Decription:  §®X¡«X§§¤\n",
      "Key:  196  Decription:  ¦­W ªW¦¦£\n",
      "Key:  197  Decription:  ¥¬V©V¥¥¢\n",
      "Key:  198  Decription:  ",
      "¤«U¨U¤¤¡\n",
      "Key:  199  Decription:  £ªT§T££ \n",
      "Key:  200  Decription:  ¢©S¦S¢¢\n",
      "Key:  201  Decription:  ¡¨R¥R¡¡\n",
      "Key:  202  Decription:   §Q¤Q  \n",
      "Key:  203  Decription:  ¦P£P\n",
      "Key:  204  Decription:  ¥O¢O\n",
      "Key:  205  Decription:  ~¤N¡N\n",
      "Key:  206  Decription:  }£M M\n",
      "Key:  207  Decription:  |¢LL\n",
      "Key:  208  Decription:  {¡KK\n",
      "Key:  209  Decription:  z JJ\n",
      "Key:  210  Decription:  yII\n",
      "Key:  211  Decription:  xHH\n",
      "Key:  212  Decription:  wGG\n",
      "Key:  213  Decription:  vFF\n",
      "Key:  214  Decription:  uEE\n",
      "Key:  215  Decription:  t",
      "",
      "DD\n",
      "Key:  216  Decription:  sCC\n",
      "Key:  217  Decription:  rBB",
      "\n",
      "Key:  218  Decription:  q",
      "AA\n",
      "Key:  219  Decription:  p@@\n",
      "Key:  220  Decription:  o??\n",
      "Key:  221  Decription:  n>>\n",
      "Key:  222  Decription:  m~~==\n",
      "Key:  223  Decription:  l}}<",
      "<\n",
      "Key:  224  Decription:  k||;;~\n",
      "Key:  225  Decription:  j{~{::}\n",
      "Key:  226  Decription:  iz}z99|",
      "\n",
      "Key:  227  Decription:  hy|y88{\n",
      "Key:  228  Decription:  gx{x77z\n",
      "Key:  229  Decription:  fwz",
      "w66y",
      "",
      "\n",
      "Key:  230  Decription:  evyv5~5x\n",
      "Key:  231  Decription:  duxu4}4w\n",
      "Key:  232  Decription:  ctwt3|3v\n",
      "Key:  233  Decription:  bsvs2{",
      "2u~\n",
      "Key:  234  Decription:  arur1z1t}\n",
      "Key:  235  Decription:  `qtq0y0s|\n",
      "Key:  236  Decription:  _ps~",
      "p/x/r~~{\n",
      "Key:  237  Decription:  ^or}o.w.q}}z\n",
      "Key:  238  Decription:  ]nq|n-v-p||y\n",
      "Key:  239  Decription:  \\mp{m,u,o{{x\n",
      "Key:  240  Decription:  [lozl+t~+nzzw\n",
      "Key:  241  Decription:  Zknyk*s}*myyv\n",
      "Key:  242  Decription:  Yjmxj)r|)lxxu\n",
      "Key:  243  Decription:  Xilw~i(q{(kwwt\n",
      "Key:  244  Decription:  Whkv}h'pz'jvvs\n",
      "Key:  245  Decription:  Vgju|g&oy&iuur\n",
      "Key:  246  Decription:  Ufit{f%nx%httq\n",
      "Key:  247  Decription:  Tehsze$mw$gssp\n",
      "Key:  248  Decription:  Sdgryd#lv#frro\n",
      "Key:  249  Decription:  Rcfqxc\"ku\"eqqn\n",
      "Key:  250  Decription:  Qbepwb!jt!dppm\n",
      "Key:  251  Decription:  Padova is cool\n",
      "Key:  252  Decription:  O`cnu`\u001fhr\u001fbnnk\n",
      "Key:  253  Decription:  N_bmt_\u001e",
      "gq\u001e",
      "ammj\n",
      "Key:  254  Decription:  M^als^\u001d",
      "fp\u001d",
      "`lli\n",
      "Key:  255  Decription:  L]`kr]\u001c",
      "eo\u001c",
      "_kkh\n"
     ]
    }
   ],
   "source": [
    "# Brute force approach \n",
    "for key in range(0,256):\n",
    "    \n",
    "    # Subtract key and nonce\n",
    "    text_decoded = text_ascii - nonce - key\n",
    "    \n",
    "    # Check for value out of range\n",
    "    text_decoded[np.where(text_decoded<0)] = text_decoded[np.where(text_decoded<0)] + 256   \n",
    "    text_reverted = ''.join(chr(a) for a in text_decoded)\n",
    "    \n",
    "    print(\"Key: \", key, \" Decription: \",text_reverted)"
   ]
  },
  {
   "cell_type": "markdown",
   "metadata": {},
   "source": [
    "As we can see from the output, lots of results are clauses without sense in English language. If we search among the outputs for every key, we find that the key is **251** and the original message text is **Padova is cool**.\n",
    "\n",
    "However, this approach is feasible if the number of possible keys is limited. If the number of possible keys is bigger, we cannot just manually look for a meaningful result. Therefore, we also implement a dictionary approach to figure out a reduced list of possible keys and original messages. "
   ]
  },
  {
   "cell_type": "code",
   "execution_count": 16,
   "metadata": {
    "ExecuteTime": {
     "end_time": "2020-07-21T11:35:15.605533Z",
     "start_time": "2020-07-21T11:35:15.552996Z"
    }
   },
   "outputs": [
    {
     "name": "stdout",
     "output_type": "stream",
     "text": [
      "Key:  215  Decription:  t",
      "",
      "DD\n",
      "Key:  251  Decription:  Padova is cool\n",
      "Key:  252  Decription:  O`cnu`\u001fhr\u001fbnnk\n"
     ]
    }
   ],
   "source": [
    "# Brute force approach with dictionary\n",
    "\n",
    "# Create english dictionary\n",
    "d = enchant.Dict(\"en\")\n",
    "tknzr = get_tokenizer(\"en\")\n",
    "\n",
    "for key in range(0,256):\n",
    "    \n",
    "    # Subtract key and nonce\n",
    "    text_decoded = text_ascii - nonce - key\n",
    "    \n",
    "    # Check for value out of range\n",
    "    text_decoded[np.where(text_decoded<0)] = text_decoded[np.where(text_decoded<0)] + 256   \n",
    "    text_reverted = ''.join(chr(a) for a in text_decoded)\n",
    "    \n",
    "    # Filter through dictionary\n",
    "    text_list = text_reverted.split()\n",
    "    text_bool = []\n",
    "\n",
    "    for i in range(0,len(text_list)):\n",
    "        try:\n",
    "            check = d.check(text_list[i])\n",
    "            text_bool.append(check)\n",
    "        except:\n",
    "            pass\n",
    " \n",
    "    if True in text_bool:\n",
    "        print(\"Key: \", key, \" Decription: \",text_reverted)"
   ]
  },
  {
   "cell_type": "markdown",
   "metadata": {},
   "source": [
    "<hr style=\"border-top-width:4px; border-top-color: #2188bf;\">\n",
    "<br>\n",
    "<br>\n",
    "<br>\n",
    "<br>\n",
    "<br>\n",
    "<hr style=\"border-top-width:4px; border-top-color: #2188bf;\">\n",
    "\n",
    "## 4. - Cloud storage technology <a class=\"anchor\" id=\"MAPD_B_FP.4.\"></a>\n",
    "* [Index](#MAPD_B_FP.i)\n",
    "\n",
    "In a cloud storage system, we are mapping objects by name to locations using a hash table.\n",
    "If we imagine we have a system with ten hard disks (10 locations), we enumerate the location of a file using an index of the hard disk [0:9].\n",
    "\n",
    "Our hash algorithm for placement produces hashes, which are distributed uniform over the value space for a flat input key distribution. \n",
    "\n",
    "We want now to simulate the behaviour of our hash algorithm without the need to actually compute any hash value.\n",
    "\n",
    "Instead of using real filenames, which we would hash and map using a hash table to a location, we are ‘computing’ a location for ‘any’ file by generating a random number for the location in the range [0:9] to assign a file location. To place a file in the storage system we use this random location where the file will be stored and consumes space.\n",
    "\n",
    "We assume **each disk** has **1TB** of space, hence we have **10TB** in total. \n",
    "\n",
    "<br>\n",
    "<br>"
   ]
  },
  {
   "cell_type": "markdown",
   "metadata": {},
   "source": [
    "### 4.1. - Simulate the placement of 10GB files to random locations <a class=\"anchor\" id=\"MAPD_B_FP.4.1.\"></a>\n",
    "\n",
    "We need to place as many files of 10GB size as possible to hard disks choosing random locations until one hard disk is full.\n",
    "\n",
    "For this purpose, we write a program to simulate the placement of 10GB files to random locations and account the used space on each hard disk. Once the first hard disk is full, we stop to place files."
   ]
  },
  {
   "cell_type": "code",
   "execution_count": 17,
   "metadata": {
    "ExecuteTime": {
     "end_time": "2020-07-21T10:32:09.177405Z",
     "start_time": "2020-07-21T10:32:09.158398Z"
    }
   },
   "outputs": [
    {
     "name": "stdout",
     "output_type": "stream",
     "text": [
      "Disks occupation: [ 860  750  970  740  600  810  980 1000  770  880]\n",
      "Placed files:     836\n",
      "Free space left:  16.4 %\n"
     ]
    }
   ],
   "source": [
    "# Set a random seed\n",
    "random.seed(10)\n",
    "\n",
    "# Create a variable to store hard disk space\n",
    "disks= np.array([0]*10)\n",
    "            \n",
    "# Create a loop which stops \n",
    "# once the first hard disk is full\n",
    "while(True):\n",
    "    disk= random.randint(0, 9)\n",
    "    disks[disk]+=10\n",
    "    if(np.max(disks)>1000):\n",
    "        disks[disk]-=10\n",
    "        break\n",
    "        \n",
    "placed = int(np.sum(disks)/10)\n",
    "free = (10000-np.sum(disks))/100\n",
    "\n",
    "print(\"Disks occupation:\", disks)\n",
    "print(\"Placed files:    \", placed)\n",
    "print(\"Free space left: \", free, \"%\")  "
   ]
  },
  {
   "cell_type": "markdown",
   "metadata": {},
   "source": [
    "For a filesize of 10GB, we are able to place ~836 files with a percentege of total used space on all hard disks in the moment the first disk is full of ~16.4%.\n",
    "\n",
    "We also visualize the obtained distribution with a barplot."
   ]
  },
  {
   "cell_type": "code",
   "execution_count": 18,
   "metadata": {
    "ExecuteTime": {
     "end_time": "2020-07-21T09:57:20.173486Z",
     "start_time": "2020-07-21T09:57:20.015665Z"
    }
   },
   "outputs": [
    {
     "data": {
      "image/png": "[encoded data removed]",
      "text/plain": [
       "<Figure size 720x576 with 1 Axes>"
      ]
     },
     "metadata": {
      "needs_background": "light"
     },
     "output_type": "display_data"
    }
   ],
   "source": [
    "# Plot the results in a barplot\n",
    "fig, ax =  plt.subplots(figsize=(10,8))\n",
    "ax.bar(np.linspace(0,9, 10),disks,color=palette.inferno(10)[4])\n",
    "plt.xticks(range(0,10),range(0,10))\n",
    "ax.grid(True, which=\"both\", ls=\"-\",color='0.93')\n",
    "ax.set_axisbelow(True)\n",
    "ax.set_xlabel('Hard disk number',fontsize=16)\n",
    "ax.set_ylabel('Filled size [GB]',fontsize=16)\n",
    "ax.hlines(1000,linestyle='dashed',xmin=-1,xmax=10,color=palette.inferno(10)[6])\n",
    "ax.set_xlim(-1,10)\n",
    "plt.show()"
   ]
  },
  {
   "cell_type": "markdown",
   "metadata": {},
   "source": [
    "<br>\n",
    "<br>\n",
    "\n",
    "### 4.2. - Simulate the placement of $\\pmb{N}$GB files to random locations <a class=\"anchor\" id=\"MAPD_B_FP.4.2.\"></a>\n",
    "\n",
    "Now, we create a function to simulate the placement of $N$GB files to random locations. It gives us detailed information about the filling, as:\n",
    "\n",
    "* the disk occupation;\n",
    "* the number of files we did manage to place;\n",
    "* the total free space left."
   ]
  },
  {
   "cell_type": "code",
   "execution_count": 19,
   "metadata": {
    "ExecuteTime": {
     "end_time": "2020-07-21T10:03:07.942886Z",
     "start_time": "2020-07-21T10:03:07.931016Z"
    }
   },
   "outputs": [],
   "source": [
    "def FreeSpace(filesize=10, graph=True, verbose=True, retu=False, seed=10):\n",
    "    # Set a random seed\n",
    "    random.seed(seed)\n",
    "    \n",
    "    # Create a variable to store hard disk space\n",
    "    disks= np.array([0.]*10)\n",
    "    \n",
    "    # Create a loop which stops \n",
    "    # once the first hard disk is full\n",
    "    while(True):\n",
    "        disk = random.randint(0, 9)\n",
    "        disks[disk]+=filesize\n",
    "        if(np.max(disks)>1000):\n",
    "            disks[disk]-=filesize\n",
    "            break\n",
    "        \n",
    "    placed = int(np.sum(disks)/filesize)\n",
    "    free = (10000-np.sum(disks))/100 #10000*100\n",
    "    \n",
    "    # If true, visualize a barplot\n",
    "    if(graph):\n",
    "        fig, ax =  plt.subplots(figsize=(10,8))\n",
    "        ax.bar(np.linspace(0,9, 10),disks,color=palette.inferno(10)[4])\n",
    "        plt.xticks(range(0,10),range(0,10))\n",
    "        ax.grid(True, which=\"both\", ls=\"-\",color='0.93')\n",
    "        ax.set_axisbelow(True)\n",
    "        ax.set_xlabel('Hard disk number',fontsize=16)\n",
    "        ax.set_ylabel('Filled size [GB]',fontsize=16)\n",
    "        ax.hlines(1000,linestyle='dashed',xmin=-1,xmax=10,color=palette.inferno(10)[6])\n",
    "        ax.set_xlim(-1,10)\n",
    "        plt.show()\n",
    "     \n",
    "    # If true, print filling information\n",
    "    if(verbose):\n",
    "        print(\"Disks occupation:\", disks)\n",
    "        print(\"Placed files:    \", placed)\n",
    "        print(\"Free space left: \", free, \"%\")  \n",
    "    \n",
    "    # If true, return the number of placed files \n",
    "    # and free space left\n",
    "    if(retu):\n",
    "        return placed, free"
   ]
  },
  {
   "cell_type": "markdown",
   "metadata": {},
   "source": [
    "In particular, we repeat the same task placing 1GB files until the first hard disk is full."
   ]
  },
  {
   "cell_type": "code",
   "execution_count": 20,
   "metadata": {
    "ExecuteTime": {
     "end_time": "2020-07-21T10:06:21.716020Z",
     "start_time": "2020-07-21T10:06:21.499397Z"
    }
   },
   "outputs": [
    {
     "data": {
      "image/png": "[encoded data removed]",
      "text/plain": [
       "<Figure size 720x576 with 1 Axes>"
      ]
     },
     "metadata": {
      "needs_background": "light"
     },
     "output_type": "display_data"
    },
    {
     "name": "stdout",
     "output_type": "stream",
     "text": [
      "Disks occupation: [ 939.  925.  964.  869.  959.  997.  971.  919. 1000.  931.]\n",
      "Placed files:     9474\n",
      "Free space left:  5.26 %\n"
     ]
    }
   ],
   "source": [
    "FreeSpace(1)"
   ]
  },
  {
   "cell_type": "code",
   "execution_count": 21,
   "metadata": {
    "ExecuteTime": {
     "end_time": "2020-07-21T10:20:04.521762Z",
     "start_time": "2020-07-21T10:20:04.363730Z"
    }
   },
   "outputs": [
    {
     "data": {
      "image/png": "[encoded data removed]",
      "text/plain": [
       "<Figure size 720x576 with 1 Axes>"
      ]
     },
     "metadata": {
      "needs_background": "light"
     },
     "output_type": "display_data"
    },
    {
     "name": "stdout",
     "output_type": "stream",
     "text": [
      "Disks occupation: [ 660.  720.  860.  700.  600.  860.  980. 1000.  680. 1000.]\n",
      "Placed files:     403\n",
      "Free space left:  19.4 %\n"
     ]
    }
   ],
   "source": [
    "FreeSpace(20)"
   ]
  },
  {
   "cell_type": "code",
   "execution_count": 22,
   "metadata": {
    "ExecuteTime": {
     "end_time": "2020-07-21T10:20:20.366438Z",
     "start_time": "2020-07-21T10:20:20.212028Z"
    }
   },
   "outputs": [
    {
     "data": {
      "image/png": "[encoded data removed]",
      "text/plain": [
       "<Figure size 720x576 with 1 Axes>"
      ]
     },
     "metadata": {
      "needs_background": "light"
     },
     "output_type": "display_data"
    },
    {
     "name": "stdout",
     "output_type": "stream",
     "text": [
      "Disks occupation: [ 520.  520.  800.  520.  440.  600.  680. 1000.  520.  560.]\n",
      "Placed files:     154\n",
      "Free space left:  38.4 %\n"
     ]
    }
   ],
   "source": [
    "FreeSpace(40)"
   ]
  },
  {
   "cell_type": "code",
   "execution_count": 23,
   "metadata": {
    "ExecuteTime": {
     "end_time": "2020-07-21T10:24:39.587055Z",
     "start_time": "2020-07-21T10:24:39.425301Z"
    }
   },
   "outputs": [
    {
     "data": {
      "image/png": "[encoded data removed]",
      "text/plain": [
       "<Figure size 720x576 with 1 Axes>"
      ]
     },
     "metadata": {
      "needs_background": "light"
     },
     "output_type": "display_data"
    },
    {
     "name": "stdout",
     "output_type": "stream",
     "text": [
      "Disks occupation: [600. 480. 900. 780. 660. 780. 780. 960. 540. 660.]\n",
      "Placed files:     119\n",
      "Free space left:  28.6 %\n"
     ]
    }
   ],
   "source": [
    "FreeSpace(60)"
   ]
  },
  {
   "cell_type": "markdown",
   "metadata": {},
   "source": [
    "<br>\n",
    "<br>\n",
    "\n",
    "### 4.3. - Free space left as a function of file size<a class=\"anchor\" id=\"MAPD_B_FP.4.3.\"></a>\n",
    "\n",
    "We observe that the free space left for 1GB files is less than if we use 10GB or 40GB files. Let us further investigate this trend with the following plot."
   ]
  },
  {
   "cell_type": "code",
   "execution_count": 24,
   "metadata": {
    "ExecuteTime": {
     "end_time": "2020-07-21T10:18:05.663833Z",
     "start_time": "2020-07-21T10:18:04.804688Z"
    }
   },
   "outputs": [
    {
     "data": {
      "image/png": "[encoded data removed]",
      "text/plain": [
       "<Figure size 720x576 with 1 Axes>"
      ]
     },
     "metadata": {
      "needs_background": "light"
     },
     "output_type": "display_data"
    }
   ],
   "source": [
    "min_size = 0.2\n",
    "max_size = 30\n",
    "sizes= np.linspace(min_size, max_size, 50)\n",
    "y=[]\n",
    "\n",
    "for size in sizes:\n",
    "    p,f= FreeSpace(size, False, False, True)\n",
    "    y.append(f)\n",
    "    \n",
    "# Plot the results\n",
    "fig, ax =  plt.subplots(figsize=(10,8))\n",
    "ax.plot(sizes, y, color=palette.inferno(10)[4], label='Free Space Left')\n",
    "plt.xticks(range(int(min_size),int(max_size)+1,2),range(int(min_size),int(max_size)+1,2))\n",
    "ax.grid(True, which=\"both\", ls=\"-\",color='0.93')\n",
    "ax.set_axisbelow(True)\n",
    "ax.set_xlabel('File size [GB]',fontsize=16)\n",
    "ax.set_ylabel('Percentage of free space left',fontsize=16)\n",
    "ax.set_title(\"Percentage of free space left as a function of file size\",fontsize=18)\n",
    "plt.legend(fontsize=16)\n",
    "plt.show()"
   ]
  },
  {
   "cell_type": "markdown",
   "metadata": {},
   "source": [
    "As expected, we observe that increasing the file size, the percentage of filled size increases. Hence, it is more convenient to store fixed size blocks of ~4M and not files of GBs."
   ]
  }
 ],
 "metadata": {
  "kernelspec": {
   "display_name": "Python 3",
   "language": "python",
   "name": "python3"
  },
  "language_info": {
   "codemirror_mode": {
    "name": "ipython",
    "version": 3
   },
   "file_extension": ".py",
   "mimetype": "text/x-python",
   "name": "python",
   "nbconvert_exporter": "python",
   "pygments_lexer": "ipython3",
   "version": "3.7.6"
  },
  "varInspector": {
   "cols": {
    "lenName": 16,
    "lenType": 16,
    "lenVar": 40
   },
   "kernels_config": {
    "python": {
     "delete_cmd_postfix": "",
     "delete_cmd_prefix": "del ",
     "library": "var_list.py",
     "varRefreshCmd": "print(var_dic_list())"
    },
    "r": {
     "delete_cmd_postfix": ") ",
     "delete_cmd_prefix": "rm(",
     "library": "var_list.r",
     "varRefreshCmd": "cat(var_dic_list()) "
    }
   },
   "types_to_exclude": [
    "module",
    "function",
    "builtin_function_or_method",
    "instance",
    "_Feature"
   ],
   "window_display": false
  }
 },
 "nbformat": 4,
 "nbformat_minor": 4
}
