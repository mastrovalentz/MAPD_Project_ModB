{
 "cells": [
  {
   "cell_type": "markdown",
   "metadata": {},
   "source": [
    "# MAPD B"
   ]
  },
  {
   "cell_type": "code",
   "execution_count": 1,
   "metadata": {},
   "outputs": [],
   "source": [
    "import numpy as np"
   ]
  },
  {
   "cell_type": "markdown",
   "metadata": {},
   "source": [
    "## Exercise 1"
   ]
  },
  {
   "cell_type": "markdown",
   "metadata": {},
   "source": [
    "### 1.1."
   ]
  },
  {
   "cell_type": "code",
   "execution_count": 2,
   "metadata": {},
   "outputs": [],
   "source": [
    "N = 4"
   ]
  },
  {
   "cell_type": "code",
   "execution_count": 3,
   "metadata": {},
   "outputs": [],
   "source": [
    "f0 = open(\"raid4.0\", \"wb\")\n",
    "f1 = open(\"raid4.1\", \"wb\")\n",
    "f2 = open(\"raid4.2\", \"wb\")\n",
    "f3 = open(\"raid4.3\", \"wb\")\n",
    "f4 = open(\"raid4.4\", \"wb\")\n",
    "\n",
    "with open(\"raid4.input\", \"rb\") as f:\n",
    "    byte4 = f.read(N)\n",
    "    \n",
    "    while byte4 != b\"\":\n",
    "        B  = [0]*N\n",
    "        BP = 0\n",
    "        \n",
    "        for i in range(N):\n",
    "            if i<len(byte4):\n",
    "                B[i] = byte4[i:(i+1)]\n",
    "            else:\n",
    "                B[i] = (0).to_bytes(1,'big')\n",
    "            \n",
    "        for i in range(N):\n",
    "            BP ^= B[i][0]\n",
    "        \n",
    "        #print(b4)  \n",
    "        f0.write(B[0])\n",
    "        f1.write(B[1])\n",
    "        f2.write(B[2])\n",
    "        f3.write(B[3])\n",
    "        f4.write(BP.to_bytes(1,'big'))\n",
    "        byte4 = f.read(N)\n",
    "\n",
    "f0.close()\n",
    "f1.close()\n",
    "f2.close()\n",
    "f3.close()\n",
    "f4.close()"
   ]
  },
  {
   "cell_type": "code",
   "execution_count": 4,
   "metadata": {},
   "outputs": [
    {
     "name": "stdout",
     "output_type": "stream",
     "text": [
      "b'w' 119\n",
      "b'\\x01' 1\n",
      "b'\\x0e' 14\n",
      "b'[' 91\n",
      "b'G' 71\n",
      "b'\\xd8' 216\n",
      "b'\\x1d' 29\n",
      "b'`' 96\n",
      "b'&' 38\n",
      "b'\\x15' 21\n"
     ]
    }
   ],
   "source": [
    "# validation\n",
    "with open(\"raid4.4\", \"rb\") as f:\n",
    "    byte = f.read(1)\n",
    "    i = 0\n",
    "    while byte != b\"\":\n",
    "        if i<10:\n",
    "            print(byte, byte[0])\n",
    "            i += 1\n",
    "        byte = f.read(1)\n",
    "        # byte, byte[0]"
   ]
  },
  {
   "cell_type": "markdown",
   "metadata": {},
   "source": [
    "### 1.2."
   ]
  },
  {
   "cell_type": "code",
   "execution_count": 5,
   "metadata": {},
   "outputs": [],
   "source": [
    "def colwise_parity(filename):\n",
    "    with open(filename, \"rb\") as f:\n",
    "        byte = f.read(1)\n",
    "        BP = 0\n",
    "        while byte != b\"\":\n",
    "            BP ^= byte[0]\n",
    "            \n",
    "            byte = f.read(1)\n",
    "    \n",
    "    # return BP.to_bytes(1,'big')\n",
    "    return hex(BP)"
   ]
  },
  {
   "cell_type": "code",
   "execution_count": 6,
   "metadata": {},
   "outputs": [],
   "source": [
    "q0 = colwise_parity(\"raid4.0\")\n",
    "q1 = colwise_parity(\"raid4.1\")\n",
    "q2 = colwise_parity(\"raid4.2\")\n",
    "q3 = colwise_parity(\"raid4.3\")\n",
    "q4 = colwise_parity(\"raid4.4\")"
   ]
  },
  {
   "cell_type": "code",
   "execution_count": 7,
   "metadata": {},
   "outputs": [
    {
     "name": "stdout",
     "output_type": "stream",
     "text": [
      "0xa5 0x7 0xa0 0x9b 0x99\n"
     ]
    }
   ],
   "source": [
    "print(q0, q1, q2, q3, q4)"
   ]
  },
  {
   "cell_type": "markdown",
   "metadata": {},
   "source": [
    "Size overhead: **25%**"
   ]
  },
  {
   "cell_type": "markdown",
   "metadata": {},
   "source": [
    "### 1.3."
   ]
  },
  {
   "cell_type": "code",
   "execution_count": 8,
   "metadata": {},
   "outputs": [
    {
     "data": {
      "text/plain": [
       "'0xa507a09b99'"
      ]
     },
     "execution_count": 8,
     "metadata": {},
     "output_type": "execute_result"
    }
   ],
   "source": [
    "P5 = (int(q0,16)<<32) | (int(q1,16)<<24)| (int(q2,16)<<16) | (int(q3,16)<<8) | int(q4,16)\n",
    "hex(P5)"
   ]
  },
  {
   "cell_type": "markdown",
   "metadata": {},
   "source": [
    "### 1.4."
   ]
  },
  {
   "cell_type": "markdown",
   "metadata": {},
   "source": [
    "All zeros, since the operation applied would be $P~ \\hat{~} P$. Let's verify."
   ]
  },
  {
   "cell_type": "code",
   "execution_count": 18,
   "metadata": {},
   "outputs": [],
   "source": [
    "N = 4"
   ]
  },
  {
   "cell_type": "code",
   "execution_count": 19,
   "metadata": {},
   "outputs": [],
   "source": [
    "f0 = open(\"raid4.0\", \"wb\")\n",
    "f1 = open(\"raid4.1\", \"wb\")\n",
    "f2 = open(\"raid4.2\", \"wb\")\n",
    "f3 = open(\"raid4.3\", \"wb\")\n",
    "f4 = open(\"raid4.4\", \"wb\")\n",
    "f5 = open(\"raid4.5\", \"wb\")\n",
    "\n",
    "with open(\"raid4.input\", \"rb\") as f:\n",
    "    byte4 = f.read(N)\n",
    "    \n",
    "    while byte4 != b\"\":\n",
    "        B   = [0]*N\n",
    "        BP  = 0\n",
    "        BPP = 0\n",
    "        \n",
    "        for i in range(N):\n",
    "            if i<len(byte4):\n",
    "                B[i] = byte4[i:(i+1)]\n",
    "            else:\n",
    "                B[i] = (0).to_bytes(1,'big')\n",
    "            \n",
    "        for i in range(N):\n",
    "            BP  ^= B[i][0]\n",
    "            BPP ^= B[i][0]\n",
    "        \n",
    "        BPP ^= BP\n",
    "        \n",
    "        #print(b4)  \n",
    "        f0.write(B[0])\n",
    "        f1.write(B[1])\n",
    "        f2.write(B[2])\n",
    "        f3.write(B[3])\n",
    "        f4.write(BP.to_bytes(1,'big'))\n",
    "        f5.write(BPP.to_bytes(1,'big'))\n",
    "        byte4 = f.read(N)\n",
    "\n",
    "f0.close()\n",
    "f1.close()\n",
    "f2.close()\n",
    "f3.close()\n",
    "f4.close()\n",
    "f5.close()"
   ]
  },
  {
   "cell_type": "code",
   "execution_count": 20,
   "metadata": {},
   "outputs": [
    {
     "name": "stdout",
     "output_type": "stream",
     "text": [
      "b'\\x00' 0\n",
      "b'\\x00' 0\n",
      "b'\\x00' 0\n",
      "b'\\x00' 0\n",
      "b'\\x00' 0\n",
      "b'\\x00' 0\n",
      "b'\\x00' 0\n",
      "b'\\x00' 0\n",
      "b'\\x00' 0\n",
      "b'\\x00' 0\n"
     ]
    }
   ],
   "source": [
    "# validation\n",
    "with open(\"raid4.5\", \"rb\") as f:\n",
    "    byte = f.read(1)\n",
    "    i = 0\n",
    "    while byte != b\"\":\n",
    "        if i<10:\n",
    "            print(byte, byte[0])\n",
    "            i += 1\n",
    "        byte = f.read(1)\n",
    "        # byte, byte[0]"
   ]
  },
  {
   "cell_type": "markdown",
   "metadata": {},
   "source": [
    "### 1.5."
   ]
  },
  {
   "cell_type": "markdown",
   "metadata": {},
   "source": [
    "$$\n",
    "P \\hat{} x_2 \\hat{} x_3 \\hat{} x_4\n",
    "=\n",
    "x_1 \\hat{} x_2 \\hat{} x_3 \\hat{} x_4 \\hat{} x_2 \\hat{} x_3 \\hat{} x_4\n",
    "=\n",
    "x_1 \\hat{} 0 \\hat{} 0 \\hat{} 0\n",
    "=\n",
    "x_1\n",
    "$$"
   ]
  },
  {
   "cell_type": "markdown",
   "metadata": {},
   "source": [
    "Let's check."
   ]
  },
  {
   "cell_type": "code",
   "execution_count": 22,
   "metadata": {},
   "outputs": [
    {
     "name": "stdout",
     "output_type": "stream",
     "text": [
      "b'%' \t b'%'\n",
      "b'-' \t b'-'\n",
      "b'\\n' \t b'\\n'\n",
      "b'\\xf2' \t b'\\xf2'\n",
      "b'\\xf3' \t b'\\xf3'\n",
      "b'\\xc6' \t b'\\xc6'\n",
      "b'0' \t b'0'\n",
      "b'j' \t b'j'\n",
      "b' ' \t b' '\n",
      "b'n' \t b'n'\n",
      "b' ' \t b' '\n",
      "b' ' \t b' '\n",
      "b'F' \t b'F'\n",
      "b'e' \t b'e'\n",
      "b'F' \t b'F'\n",
      "b'e' \t b'e'\n",
      "b'o' \t b'o'\n",
      "b'>' \t b'>'\n",
      "b't' \t b't'\n",
      "b'm' \t b'm'\n"
     ]
    }
   ],
   "source": [
    "f0 = open(\"raid4.0\", \"rb\")\n",
    "f1 = open(\"raid4.1\", \"rb\")\n",
    "f2 = open(\"raid4.2\", \"rb\")\n",
    "f3 = open(\"raid4.3\", \"rb\")\n",
    "f4 = open(\"raid4.4\", \"rb\")\n",
    "\n",
    "# validation\n",
    "byte0 = f0.read(1)\n",
    "byte1 = f1.read(1)\n",
    "byte2 = f2.read(1)\n",
    "byte3 = f3.read(1)\n",
    "byte4 = f4.read(1)\n",
    "\n",
    "i = 0\n",
    "while byte0 != b\"\" and i<20:\n",
    "    P = byte4[0] ^ byte1[0] ^ byte2[0] ^ byte3[0]\n",
    "    print(byte0, \"\\t\", P.to_bytes(1,'big'))\n",
    "    i += 1\n",
    "    byte0 = f0.read(1)\n",
    "    byte1 = f1.read(1)\n",
    "    byte2 = f2.read(1)\n",
    "    byte3 = f3.read(1)\n",
    "    byte4 = f4.read(1)\n",
    "\n",
    "f0.close()\n",
    "f1.close()\n",
    "f2.close()\n",
    "f3.close()\n",
    "f4.close()"
   ]
  },
  {
   "cell_type": "markdown",
   "metadata": {},
   "source": [
    "## Ex 2"
   ]
  },
  {
   "cell_type": "code",
   "execution_count": 13,
   "metadata": {},
   "outputs": [],
   "source": [
    "import numpy as np"
   ]
  },
  {
   "cell_type": "markdown",
   "metadata": {},
   "source": [
    "### 2.1 \n",
    "Is this symmetric or asymmetric encryption and explain why?"
   ]
  },
  {
   "cell_type": "markdown",
   "metadata": {},
   "source": [
    "### 2.2\n",
    "Write a small brute force program which tests keys from 0..255 and\n",
    "use a dictionary approach to figure out the original message. "
   ]
  },
  {
   "cell_type": "markdown",
   "metadata": {},
   "source": [
    "What is the decryption algorithm/formula to be used? \n",
    "\n",
    "Since we have encoded_character[i] = character[i] + key + nonce(i) we can just revert this formula to obtain the formula which should be applied for each possible key\n",
    "\n",
    "character[i] = encoded_character[i] - key - nonce(i) "
   ]
  },
  {
   "cell_type": "code",
   "execution_count": 24,
   "metadata": {},
   "outputs": [],
   "source": [
    "text_encoded = \"K]amua!kv$huvt\"\n",
    "\n",
    "text_ascii = np.array([ord(l) for l in text])\n",
    "text_reverted = ''.join(chr(a) for a in text_ascii)\n",
    "\n",
    "nonce = np.array([x for x in range(0,len(text_coded))])"
   ]
  },
  {
   "cell_type": "code",
   "execution_count": 25,
   "metadata": {},
   "outputs": [
    {
     "ename": "SyntaxError",
     "evalue": "Missing parentheses in call to 'print'. Did you mean print(text_ascii)? (<ipython-input-25-fe5b248d2a2a>, line 1)",
     "output_type": "error",
     "traceback": [
      "\u001b[0;36m  File \u001b[0;32m\"<ipython-input-25-fe5b248d2a2a>\"\u001b[0;36m, line \u001b[0;32m1\u001b[0m\n\u001b[0;31m    print text_ascii\u001b[0m\n\u001b[0m          ^\u001b[0m\n\u001b[0;31mSyntaxError\u001b[0m\u001b[0;31m:\u001b[0m Missing parentheses in call to 'print'. Did you mean print(text_ascii)?\n"
     ]
    }
   ],
   "source": [
    "print text_ascii \n",
    "print nonce\n",
    "print text_reverted"
   ]
  },
  {
   "cell_type": "code",
   "execution_count": null,
   "metadata": {},
   "outputs": [],
   "source": [
    "for key in range(0,256): #[0,256)\n",
    "    #subtract key and nonce\n",
    "    text_decoded=text_ascii-nonce-key\n",
    "    #check for value out of range\n",
    "    text_decoded[np.where(text_decoded<0)] = text_decoded[np.where(text_decoded<0)] + 256   \n",
    "    text_reverted = ''.join(chr(a) for a in text_decoded)\n",
    "    print \"Key: \", key, \" Decription: \",text_reverted"
   ]
  },
  {
   "cell_type": "markdown",
   "metadata": {},
   "source": [
    "The used key is **251** and the original message text is **Padova is cool**"
   ]
  },
  {
   "cell_type": "markdown",
   "metadata": {},
   "source": [
    "## Ex 3"
   ]
  },
  {
   "cell_type": "code",
   "execution_count": null,
   "metadata": {},
   "outputs": [],
   "source": [
    "import ROOT\n",
    "from ROOT import gROOT, TCanvas, TF1 , TGraph\n",
    "import random"
   ]
  },
  {
   "cell_type": "code",
   "execution_count": null,
   "metadata": {},
   "outputs": [],
   "source": [
    "random.randint(0, 10)"
   ]
  },
  {
   "cell_type": "code",
   "execution_count": null,
   "metadata": {},
   "outputs": [],
   "source": [
    "h= ROOT.TH1F(\"h\", \"h\", 10 ,-0.5,9.5)\n",
    "while (h.GetMaximum() < 1000): #1000GB intended\n",
    "    disk = random.randint(1, 10)\n",
    "    h.SetBinContent(disk, h.GetBinContent(disk)+10)\n",
    "\n",
    "c1 = TCanvas( 'c1', 'The FillRandom example', 200, 10, 800, 600 )\n",
    "h.Draw()\n",
    "c1.Draw()\n",
    "placed = h.GetEntries()\n",
    "print \"placed: \",placed \n",
    "free= (10000 - h.Integral())/100 #/10000*100\n",
    "print \"free space: \",free,\"%\" "
   ]
  },
  {
   "cell_type": "code",
   "execution_count": null,
   "metadata": {},
   "outputs": [],
   "source": [
    "def FreeSpace(filesize = 10, verbose=True):\n",
    "    simHist =  ROOT.TH1F(\"simHist\", \"simHist\", 10 ,-0.5,9.5)\n",
    "    while (simHist.GetMaximum() < 1000): #1000GB intended\n",
    "        disk = random.randint(1, 10)\n",
    "        simHist.SetBinContent(disk, simHist.GetBinContent(disk)+filesize)\n",
    "    placed = simHist.GetEntries()\n",
    "    free= (10000 - simHist.Integral())/100 #/10000*100\n",
    "    if(verbose):\n",
    "        print \"placed: \",placed \n",
    "        print \"free space: \",free,\"%\" \n",
    "    return simHist, placed, free"
   ]
  },
  {
   "cell_type": "code",
   "execution_count": null,
   "metadata": {},
   "outputs": [],
   "source": [
    "hist, p, f = FreeSpace(10)\n",
    "c1 = TCanvas( 'c1', 'The FillRandom example', 200, 10, 800, 600 )\n",
    "hist.Draw()\n",
    "c1.Draw()"
   ]
  },
  {
   "cell_type": "code",
   "execution_count": null,
   "metadata": {},
   "outputs": [],
   "source": [
    "hist, p, f = FreeSpace(1)\n",
    "c1 = TCanvas( 'c1', 'The FillRandom example', 200, 10, 800, 600 )\n",
    "hist.Draw()\n",
    "c1.Draw()"
   ]
  },
  {
   "cell_type": "code",
   "execution_count": null,
   "metadata": {},
   "outputs": [],
   "source": [
    "import numpy as np\n",
    "import matplotlib.pyplot as plt"
   ]
  },
  {
   "cell_type": "code",
   "execution_count": null,
   "metadata": {},
   "outputs": [],
   "source": [
    "x= np.linspace(0.2, 10, 50)\n",
    "y=[]\n",
    "for size in x:\n",
    "    h,p,f= FreeSpace(size, False)\n",
    "    y.append(f)\n",
    "\n",
    "plt.plot(x, np.array(y))\n",
    "plt.show()"
   ]
  },
  {
   "cell_type": "code",
   "execution_count": null,
   "metadata": {},
   "outputs": [],
   "source": []
  }
 ],
 "metadata": {
  "kernelspec": {
   "display_name": "Python 3",
   "language": "python",
   "name": "python3"
  },
  "language_info": {
   "codemirror_mode": {
    "name": "ipython",
    "version": 3
   },
   "file_extension": ".py",
   "mimetype": "text/x-python",
   "name": "python",
   "nbconvert_exporter": "python",
   "pygments_lexer": "ipython3",
   "version": "3.7.3"
  }
 },
 "nbformat": 4,
 "nbformat_minor": 4
}
