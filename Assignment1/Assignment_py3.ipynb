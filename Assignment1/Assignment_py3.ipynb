{
 "cells": [
  {
   "cell_type": "markdown",
   "metadata": {},
   "source": [
    "## Ex2"
   ]
  },
  {
   "cell_type": "code",
   "execution_count": null,
   "metadata": {},
   "outputs": [],
   "source": []
  },
  {
   "cell_type": "markdown",
   "metadata": {},
   "source": [
    "### 2.1 \n",
    "Is this symmetric or asymmetric encryption and explain why?"
   ]
  },
  {
   "cell_type": "markdown",
   "metadata": {},
   "source": [
    "### 2.2\n",
    "Write a small brute force program which tests keys from 0..255 and\n",
    "use a dictionary approach to figure out the original message. "
   ]
  },
  {
   "cell_type": "markdown",
   "metadata": {},
   "source": [
    "What is the decryption algorithm/formula to be used? \n",
    "\n",
    "Since we have encoded_character[i] = character[i] + key + nonce(i) we can just revert this formula to obtain the formula which should be applied for each possible key\n",
    "\n",
    "character[i] = encoded_character[i] - key - nonce(i) "
   ]
  },
  {
   "cell_type": "code",
   "execution_count": 11,
   "metadata": {},
   "outputs": [],
   "source": [
    "#put to false the following flag if you don't have the nostril package installed\n",
    "nostril_flag=True\n",
    "if (nostril_flag):\n",
    "    MODULE_PATH = \"/home/alessandro/nostril/nostril/__init__.py\"\n",
    "    MODULE_NAME = \"nostril\"\n",
    "    import importlib\n",
    "    import sys\n",
    "    spec = importlib.util.spec_from_file_location(MODULE_NAME, MODULE_PATH)\n",
    "    module = importlib.util.module_from_spec(spec)\n",
    "    sys.modules[spec.name] = module \n",
    "    spec.loader.exec_module(module)\n",
    "    import nostril\n",
    "    sensed_text=[]\n"
   ]
  },
  {
   "cell_type": "code",
   "execution_count": 12,
   "metadata": {},
   "outputs": [],
   "source": [
    "import numpy as np\n",
    "text_encoded = \"K]amua!kv$huvt\"\n",
    "\n",
    "text_ascii = np.array([ord(l) for l in text_encoded])\n",
    "text_reverted = ''.join(chr(a) for a in text_ascii)\n",
    "\n",
    "nonce = np.array([x for x in range(0,len(text_encoded))])"
   ]
  },
  {
   "cell_type": "code",
   "execution_count": 13,
   "metadata": {},
   "outputs": [
    {
     "name": "stdout",
     "output_type": "stream",
     "text": [
      "Key:  0 Decoded:  K\\_jq\\\u001bdn\u001b^jjg  May have sense: undefined\n",
      "Key:  1 Decoded:  J[^ip[\u001acm\u001a]iif  May have sense: undefined\n",
      "Key:  2 Decoded:  IZ]hoZ\u0019bl\u0019\\hhe  May have sense: undefined\n",
      "Key:  3 Decoded:  HY\\gnY\u0018ak\u0018[ggd  May have sense: undefined\n",
      "Key:  4 Decoded:  GX[fmX\u0017`j\u0017Zffc  May have sense: undefined\n",
      "Key:  5 Decoded:  FWZelW\u0016_i\u0016Yeeb  May have sense: undefined\n",
      "Key:  6 Decoded:  EVYdkV\u0015^h\u0015Xdda  May have sense: undefined\n",
      "Key:  7 Decoded:  DUXcjU\u0014]g\u0014Wcc`  May have sense: undefined\n",
      "Key:  8 Decoded:  CTWbiT\u0013\\f\u0013Vbb_  May have sense: undefined\n",
      "Key:  9 Decoded:  BSVahS\u0012[e\u0012Uaa^  May have sense: undefined\n",
      "Key:  10 Decoded:  ARU`gR\u0011Zd\u0011T``]  May have sense: undefined\n",
      "Key:  11 Decoded:  @QT_fQ\u0010Yc\u0010S__\\  May have sense: undefined\n",
      "Key:  12 Decoded:  ?PS^eP\u000fXb\u000fR^^[  May have sense: undefined\n",
      "Key:  13 Decoded:  >OR]dO\u000eWa\u000eQ]]Z  May have sense: undefined\n",
      "P\\\\Y  May have sense:  False\n",
      "Key:  15 Decoded:  <MP[bM\f",
      "U_\f",
      "O[[X  May have sense:  False\n",
      "Key:  16 Decoded:  ;LOZaL\u000b",
      "T^\u000b",
      "NZZW  May have sense:  False\n",
      "Key:  17 Decoded:  :KNY`K\n",
      "S]\n",
      "MYYV  May have sense:  False\n",
      "Key:  18 Decoded:  9JMX_J\tR\\\tLXXU  May have sense:  False\n",
      "Key:  19 Decoded:  8ILW^QKWWT  May have sense: undefined\n",
      "Key:  20 Decoded:  7HKV]H\u0007PZ\u0007JVVS  May have sense: undefined\n",
      "Key:  21 Decoded:  6GJU\\G\u0006OY\u0006IUUR  May have sense: undefined\n",
      "Key:  22 Decoded:  5FIT[F\u0005NX\u0005HTTQ  May have sense: undefined\n",
      "Key:  23 Decoded:  4EHSZE\u0004MW\u0004GSSP  May have sense: undefined\n",
      "Key:  24 Decoded:  3DGRYD\u0003LV\u0003FRRO  May have sense: undefined\n",
      "Key:  25 Decoded:  2CFQXC\u0002KU\u0002EQQN  May have sense: undefined\n",
      "Key:  26 Decoded:  1BEPWB\u0001JT\u0001DPPM  May have sense: undefined\n",
      "Key:  27 Decoded:  0ADOVA\u0000IS\u0000COOL  May have sense: undefined\n",
      "Key:  28 Decoded:  /@CNU@ÿHRÿBNNK  May have sense:  False\n",
      "Key:  29 Decoded:  .?BMT?þGQþAMMJ  May have sense:  False\n",
      "Key:  30 Decoded:  ->ALS>ýFPý@LLI  May have sense:  True\n",
      "Key:  31 Decoded:  ,=@KR=üEOü?KKH  May have sense:  True\n",
      "Key:  32 Decoded:  +<?JQ<ûDNû>JJG  May have sense:  False\n",
      "Key:  33 Decoded:  *;>IP;úCMú=IIF  May have sense:  True\n",
      "Key:  34 Decoded:  ):=HO:ùBLù<HHE  May have sense:  True\n",
      "Key:  35 Decoded:  (9<GN9øAKø;GGD  May have sense:  True\n",
      "Key:  36 Decoded:  '8;FM8÷@J÷:FFC  May have sense:  True\n",
      "Key:  37 Decoded:  &7:EL7ö?Iö9EEB  May have sense:  True\n",
      "Key:  38 Decoded:  %69DK6õ>Hõ8DDA  May have sense:  True\n",
      "Key:  39 Decoded:  $58CJ5ô=Gô7CC@  May have sense: undefined\n",
      "Key:  40 Decoded:  #47BI4ó<Fó6BB?  May have sense: undefined\n",
      "Key:  41 Decoded:  \"36AH3ò;Eò5AA>  May have sense: undefined\n",
      "Key:  42 Decoded:  !25@G2ñ:Dñ4@@=  May have sense: undefined\n",
      "Key:  43 Decoded:   14?F1ð9Cð3??<  May have sense: undefined\n",
      "Key:  44 Decoded:  \u001f03>E0ï8Bï2>>;  May have sense: undefined\n",
      "Key:  45 Decoded:  \u001e",
      "/2=D/î7Aî1==:  May have sense: undefined\n",
      "Key:  46 Decoded:  \u001d",
      ".1<C.í6@í0<<9  May have sense: undefined\n",
      "Key:  47 Decoded:  \u001c",
      "-0;B-ì5?ì/;;8  May have sense: undefined\n",
      "Key:  48 Decoded:  \u001b,/:A,ë4>ë.::7  May have sense: undefined\n",
      "Key:  49 Decoded:  \u001a+.9@+ê3=ê-996  May have sense: undefined\n",
      "Key:  50 Decoded:  \u0019*-8?*é2<é,885  May have sense: undefined\n",
      "Key:  51 Decoded:  \u0018),7>)è1;è+774  May have sense: undefined\n",
      "Key:  52 Decoded:  \u0017(+6=(ç0:ç*663  May have sense: undefined\n",
      "Key:  53 Decoded:  \u0016'*5<'æ/9æ)552  May have sense: undefined\n",
      "Key:  54 Decoded:  \u0015&)4;&å.8å(441  May have sense: undefined\n",
      "Key:  55 Decoded:  \u0014%(3:%ä-7ä'330  May have sense: undefined\n",
      "Key:  56 Decoded:  \u0013$'29$ã,6ã&22/  May have sense: undefined\n",
      "Key:  57 Decoded:  \u0012#&18#â+5â%11.  May have sense: undefined\n",
      "Key:  58 Decoded:  \u0011\"%07\"á*4á$00-  May have sense: undefined\n",
      "Key:  59 Decoded:  \u0010!$/6!à)3à#//,  May have sense: undefined\n",
      "Key:  60 Decoded:  \u000f #.5 ß(2ß\"..+  May have sense: undefined\n",
      "Key:  61 Decoded:  \u000e\u001f\"-4\u001fÞ'1Þ!--*  May have sense: undefined\n",
      "\u001e",
      "!,3\u001e",
      "Ý&0Ý ,,)  May have sense: undefined\n",
      "Key:  63 Decoded:  \f",
      "\u001d",
      " +2\u001d",
      "Ü%/Ü\u001f++(  May have sense: undefined\n",
      "Key:  64 Decoded:  \u000b",
      "\u001c",
      "\u001f*1\u001c",
      "Û$.Û\u001e",
      "**'  May have sense: undefined\n",
      "Key:  65 Decoded:  \n",
      "\u001b\u001e",
      ")0\u001bÚ#-Ú\u001d",
      "))&  May have sense: undefined\n",
      "Key:  66 Decoded:  \t\u001a\u001d",
      "(/\u001aÙ\",Ù\u001c",
      "((%  May have sense: undefined\n",
      "Key:  67 Decoded: \u0019\u001c",
      "'.\u0019Ø!+Ø\u001b''$  May have sense: undefined\n",
      "Key:  68 Decoded:  \u0007\u0018\u001b&-\u0018× *×\u001a&&#  May have sense: undefined\n",
      "Key:  69 Decoded:  \u0006\u0017\u001a%,\u0017Ö\u001f)Ö\u0019%%\"  May have sense:  False\n",
      "Key:  70 Decoded:  \u0005\u0016\u0019$+\u0016Õ\u001e",
      "(Õ\u0018$$!  May have sense:  False\n",
      "Key:  71 Decoded:  \u0004\u0015\u0018#*\u0015Ô\u001d",
      "'Ô\u0017##   May have sense:  False\n",
      "Key:  72 Decoded:  \u0003\u0014\u0017\")\u0014Ó\u001c",
      "&Ó\u0016\"\"\u001f  May have sense:  False\n",
      "Key:  73 Decoded:  \u0002\u0013\u0016!(\u0013Ò\u001b%Ò\u0015!!\u001e",
      "  May have sense:  False\n",
      "Key:  74 Decoded:  \u0001\u0012\u0015 '\u0012Ñ\u001a$Ñ\u0014  \u001d",
      "  May have sense:  False\n",
      "Key:  75 Decoded:  \u0000\u0011\u0014\u001f&\u0011Ð\u0019#Ð\u0013\u001f\u001f\u001c",
      "  May have sense:  False\n",
      "Key:  76 Decoded:  ÿ\u0010\u0013\u001e",
      "%\u0010Ï\u0018\"Ï\u0012\u001e",
      "\u001e",
      "\u001b  May have sense:  False\n",
      "Key:  77 Decoded:  þ\u000f\u0012\u001d",
      "$\u000fÎ\u0017!Î\u0011\u001d",
      "\u001d",
      "\u001a  May have sense:  False\n",
      "Key:  78 Decoded:  ý\u000e\u0011\u001c",
      "#\u000eÍ\u0016 Í\u0010\u001c",
      "\u001c",
      "\u0019  May have sense:  False\n",
      "Ì\u0015\u001fÌ\u000f\u001b\u001b\u0018  May have sense:  False\n",
      "Key:  80 Decoded:  û\f",
      "\u000f\u001a!\f",
      "Ë\u0014\u001e",
      "Ë\u000e\u001a\u001a\u0017  May have sense:  False\n",
      "\u0019\u0019\u0016  May have sense:  False\u001d",
      "Ê\n",
      "Key:  82 Decoded:  ù\n",
      "\u0018\u001f\n",
      "É\u0012\u001c",
      "É\f",
      "\u0018\u0018\u0015  May have sense:  False\n",
      "Key:  83 Decoded:  ø\t\f",
      "\u0017\u001e",
      "\tÈ\u0011\u001bÈ\u000b",
      "\u0017\u0017\u0014  May have sense:  False\n",
      "Key:  84 Decoded:  \u000b",
      "\u0016Ç\u0010\u001aÇ\n",
      "\u0016\u0016\u0013  May have sense:  False\n",
      "Key:  85 Decoded:  ö\u0007\n",
      "\u0015\u001c",
      "\u0007Æ\u000f\u0019Æ\t\u0015\u0015\u0012  May have sense:  False\n",
      "Key:  86 Decoded:  õ\u0006\t\u0014\u001b\u0006Å\u000e\u0018\u0014\u0014\u0011  May have sense:  False\n",
      "\u0017Ä\u0007\u0013\u0013\u0010  May have sense:  False\n",
      "Key:  88 Decoded:  ó\u0004\u0007\u0012\u0019\u0004Ã\f",
      "\u0016Ã\u0006\u0012\u0012\u000f  May have sense:  False\n",
      "Key:  89 Decoded:  ò\u0003\u0006\u0011\u0018\u0003Â\u000b",
      "\u0015Â\u0005\u0011\u0011\u000e  May have sense:  False\n",
      "Key:  90 Decoded:  ñ\u0002\u0005\u0010\u0017\u0002Á\n",
      "  May have sense:  False\n",
      "Key:  91 Decoded:  ð\u0001\u0004\u000f\u0016\u0001À\t\u0013À\u0003\u000f\u000f\f",
      "  May have sense:  False\n",
      "Key:  92 Decoded:  ï\u0000\u0003\u000e\u0015\u0000\u0012¿\u0002\u000e\u000e\u000b",
      "  May have sense:  False\n",
      "\u0014ÿ¾\u0007\u0011¾\u00013 Decoded:  îÿ\u0002\n",
      "  May have sense: undefined\n",
      "Key:  94 Decoded:  íþ\u0001\f",
      "\u0013þ½\u0006\u0010½\u0000\f",
      "\f",
      "\t  May have sense: undefined\n",
      "Key:  95 Decoded:  ìý\u0000\u000b",
      "\u0012ý¼\u0005\u000f¼ÿ\u000b",
      "  May have sense: undefined\n",
      "Key:  96 Decoded:  ëüÿ\n",
      "\u0011ü»\u0004\u000e»þ\n",
      "\n",
      "\u0007  May have sense: undefined\n",
      "ºý\t\t\u0006  May have sense: undefined\n",
      "Key:  98 Decoded:  éú\u000fú¹\u0002\f",
      "\u0005  May have sense:  False\n",
      "Key:  99 Decoded:  èùü\u0007\u000eù¸\u0001\u000b",
      "¸û\u0007\u0007\u0004  May have sense:  False\n",
      "ø·\u0000:  100 Decoded:  çøû\u0006\n",
      "·ú\u0006\u0006\u0003  May have sense: undefined\n",
      "Key:  101 Decoded:  æ÷ú\u0005\f",
      "÷¶ÿ\t¶ù\u0005\u0005\u0002  May have sense: undefined\n",
      "Key:  102 Decoded:  åöù\u0004\u000b",
      "öµµø\u0004\u0004\u0001  May have sense: undefined\n",
      "Key:  103 Decoded:  äõø\u0003\n",
      "õ´ý\u0007´÷\u0003\u0003\u0000  May have sense: undefined\n",
      "Key:  104 Decoded:  ãô÷\u0002\tô³ü\u0006³ö\u0002\u0002ÿ  May have sense: undefined\n",
      "Key:  105 Decoded:  âóöó²û\u0005²õ\u0001\u0001þ  May have sense: undefined\n",
      "Key:  106 Decoded:  áòõ\u0000\u0007ò±ú\u0004±ô\u0000\u0000ý  May have sense: undefined\n",
      "Key:  107 Decoded:  àñôÿ\u0006ñ°ù\u0003°óÿÿü  May have sense: undefined\n",
      "Key:  108 Decoded:  ßðóþ\u0005ð¯ø\u0002¯òþþû  May have sense: undefined\n",
      "Key:  109 Decoded:  Þïòý\u0004ï®÷\u0001®ñýýú  May have sense: undefined\n",
      "Key:  110 Decoded:  Ýîñü\u0003î­ö\u0000­ðüüù  May have sense: undefined\n",
      "Key:  111 Decoded:  Üíðû\u0002í¬õÿ¬ïûûø  May have sense: undefined\n",
      "Key:  112 Decoded:  Ûìïú\u0001ì«ôþ«îúú÷  May have sense: undefined\n",
      "Key:  113 Decoded:  Úëîù\u0000ëªóýªíùùö  May have sense: undefined\n",
      "Key:  114 Decoded:  Ùêíøÿê©òü©ìøøõ  May have sense: undefined\n",
      "Key:  115 Decoded:  Øéì÷þé¨ñû¨ë÷÷ô  May have sense: undefined\n",
      "Key:  116 Decoded:  ×èëöýè§ðú§êööó  May have sense: undefined\n",
      "Key:  117 Decoded:  Öçêõüç¦ïù¦éõõò  May have sense: undefined\n",
      "Key:  118 Decoded:  Õæéôûæ¥îø¥èôôñ  May have sense: undefined\n",
      "Key:  119 Decoded:  Ôåèóúå¤í÷¤çóóð  May have sense: undefined\n",
      "Key:  120 Decoded:  Óäçòùä£ìö£æòòï  May have sense: undefined\n",
      "Key:  121 Decoded:  Òãæñøã¢ëõ¢åññî  May have sense: undefined\n",
      "Key:  122 Decoded:  Ñâåð÷â¡êô¡äððí  May have sense: undefined\n",
      "Key:  123 Decoded:  Ðáäïöá éó ãïïì  May have sense: undefined\n",
      "Key:  124 Decoded:  Ïàãîõàèòâîîë  May have sense: undefined\n",
      "Key:  125 Decoded:  Îßâíôßçñáííê  May have sense: undefined\n",
      "Key:  126 Decoded:  ÍÞáìóÞæðàììé  May have sense: undefined\n",
      "Key:  127 Decoded:  ÌÝàëòÝåïßëëè  May have sense: undefined\n",
      "Key:  128 Decoded:  ËÜßêñÜäîÞêêç  May have sense: undefined\n",
      "Key:  129 Decoded:  ÊÛÞéðÛãíÝééæ  May have sense: undefined\n",
      "Key:  130 Decoded:  ÉÚÝèïÚâìÜèèå  May have sense: undefined\n",
      "Key:  131 Decoded:  ÈÙÜçîÙáëÛççä  May have sense: undefined\n",
      "Key:  132 Decoded:  ÇØÛæíØàêÚææã  May have sense: undefined\n",
      "Key:  133 Decoded:  Æ×Úåì×ßéÙååâ  May have sense: undefined\n",
      "Key:  134 Decoded:  ÅÖÙäëÖÞèØääá  May have sense: undefined\n",
      "Key:  135 Decoded:  ÄÕØãêÕÝç×ããà  May have sense: undefined\n",
      "Key:  136 Decoded:  ÃÔ×âéÔÜæÖââß  May have sense: undefined\n",
      "Key:  137 Decoded:  ÂÓÖáèÓÛåÕááÞ  May have sense: undefined\n",
      "Key:  138 Decoded:  ÁÒÕàçÒÚäÔààÝ  May have sense: undefined\n",
      "Key:  139 Decoded:  ÀÑÔßæÑÙãÓßßÜ  May have sense: undefined\n",
      "Key:  140 Decoded:  ¿ÐÓÞåÐØâÒÞÞÛ  May have sense: undefined\n",
      "Key:  141 Decoded:  ¾ÏÒÝäÏ×áÑÝÝÚ  May have sense: undefined\n",
      "Key:  142 Decoded:  ½ÎÑÜãÎÖàÐÜÜÙ  May have sense: undefined\n",
      "Key:  143 Decoded:  ¼ÍÐÛâÍÕßÏÛÛØ  May have sense: undefined\n",
      "Key:  144 Decoded:  »ÌÏÚáÌÔÞÎÚÚ×  May have sense: undefined\n",
      "Key:  145 Decoded:  ºËÎÙàËÓÝÍÙÙÖ  May have sense: undefined\n",
      "Key:  146 Decoded:  ¹ÊÍØßÊÒÜÌØØÕ  May have sense: undefined\n",
      "Key:  147 Decoded:  ¸ÉÌ×ÞÉÑÛË××Ô  May have sense: undefined\n",
      "Key:  148 Decoded:  ·ÈËÖÝÈÐÚÊÖÖÓ  May have sense: undefined\n",
      "Key:  149 Decoded:  ¶ÇÊÕÜÇÏÙÉÕÕÒ  May have sense: undefined\n",
      "Key:  150 Decoded:  µÆÉÔÛÆ",
      "ÎØ",
      "ÈÔÔÑ  May have sense: undefined\n",
      "Key:  151 Decoded:  ´ÅÈÓÚÅÍ×ÇÓÓÐ  May have sense: undefined\n",
      "Key:  152 Decoded:  ³ÄÇÒÙÄÌÖÆÒÒÏ  May have sense: undefined\n",
      "Key:  153 Decoded:  ²ÃÆÑØÃËÕÅÑÑÎ  May have sense: undefined\n",
      "Key:  154 Decoded:  ±ÂÅÐ×ÂÊÔÄÐÐÍ  May have sense: undefined\n",
      "Key:  155 Decoded:  °ÁÄÏÖÁÉÓÃÏÏÌ  May have sense: undefined\n",
      "Key:  156 Decoded:  ¯ÀÃÎÕÀÈÒÂÎÎË  May have sense: undefined\n",
      "Key:  157 Decoded:  ®¿ÂÍÔ¿~ÇÑ~ÁÍÍÊ  May have sense: undefined\n",
      "Key:  158 Decoded:  ­¾ÁÌÓ¾}ÆÐ}ÀÌÌÉ  May have sense: undefined\n",
      "Key:  159 Decoded:  ¬½ÀËÒ½|ÅÏ|¿ËËÈ  May have sense: undefined\n",
      "Key:  160 Decoded:  «¼¿ÊÑ¼{ÄÎ{¾ÊÊÇ  May have sense: undefined\n",
      "Key:  161 Decoded:  ª»¾ÉÐ»zÃÍz½ÉÉÆ  May have sense: undefined\n",
      "Key:  162 Decoded:  ©º½ÈÏºyÂÌy¼ÈÈÅ  May have sense: undefined\n",
      "Key:  163 Decoded:  ¨¹¼ÇÎ¹xÁËx»ÇÇÄ  May have sense: undefined\n",
      "Key:  164 Decoded:  §¸»ÆÍ¸wÀÊwºÆÆÃ  May have sense: undefined\n",
      "Key:  165 Decoded:  ¦·ºÅÌ·v¿Év¹ÅÅÂ  May have sense: undefined\n",
      "Key:  166 Decoded:  ¥¶¹ÄË¶u¾Èu¸ÄÄÁ  May have sense: undefined\n",
      "Key:  167 Decoded:  ¤µ¸ÃÊµt½Çt·ÃÃÀ  May have sense: undefined\n",
      "Key:  168 Decoded:  £´·ÂÉ´s¼Æs¶ÂÂ¿  May have sense: undefined\n",
      "Key:  169 Decoded:  ¢³¶ÁÈ³r»ÅrµÁÁ¾  May have sense: undefined\n",
      "Key:  170 Decoded:  ¡²µÀÇ²qºÄq´ÀÀ½  May have sense: undefined\n",
      "Key:  171 Decoded:   ±´¿Æ±p¹Ãp³¿¿¼  May have sense: undefined\n",
      "Key:  172 Decoded:  °³¾Å°o¸Âo²¾¾»  May have sense: undefined\n",
      "Key:  173 Decoded:  ¯²½Ä¯n·Án±½½º  May have sense: undefined\n",
      "Key:  174 Decoded:  ®±¼Ã®m¶Àm°¼¼¹  May have sense: undefined\n",
      "Key:  175 Decoded:  ­°»Â­lµ¿l¯»»¸  May have sense: undefined\n",
      "Key:  176 Decoded:  ¬¯ºÁ¬k´¾k®ºº·  May have sense: undefined\n",
      "Key:  177 Decoded:  «®¹À«j³½j­¹¹¶  May have sense: undefined\n",
      "Key:  178 Decoded:  ª­¸¿ªi²¼i¬¸¸µ  May have sense: undefined\n",
      "Key:  179 Decoded:  ©¬·¾©h±»h«··´  May have sense: undefined\n",
      "Key:  180 Decoded:  ¨«¶½¨g°ºgª¶¶³  May have sense: undefined\n",
      "Key:  181 Decoded:  §ªµ¼§f¯¹f©µµ²  May have sense: undefined\n",
      "Key:  182 Decoded:  ¦©´»¦e®¸e¨´´±  May have sense: undefined\n",
      "Key:  183 Decoded:  ¥¨³º¥d­·d§³³°  May have sense: undefined\n",
      "Key:  184 Decoded:  ¤§²¹¤c¬¶c¦²²¯  May have sense: undefined\n",
      "Key:  185 Decoded:  £¦±¸£b«µb¥±±®  May have sense: undefined\n",
      "Key:  186 Decoded:  ¢¥°·¢aª´a¤°°­  May have sense: undefined\n",
      "Key:  187 Decoded:  ¡¤¯¶¡`©³`£¯¯¬  May have sense: undefined\n",
      "Key:  188 Decoded:   £®µ _¨²_¢®®«  May have sense: undefined\n",
      "Key:  189 Decoded:  ¢­´^§±^¡­­ª  May have sense: undefined\n",
      "Key:  190 Decoded:  ¡¬³]¦°] ¬¬©  May have sense: undefined\n",
      "Key:  191 Decoded:   «²\\¥¯\\««¨  May have sense: undefined\n",
      "Key:  192 Decoded:  ª±[¤®[ªª§  May have sense: undefined\n",
      "Key:  193 Decoded:  ©°Z£­Z©©¦  May have sense: undefined\n",
      "Key:  194 Decoded:  ¨¯Y¢¬Y¨¨¥  May have sense: undefined\n",
      "Key:  195 Decoded:  §®X¡«X§§¤  May have sense: undefined\n",
      "Key:  196 Decoded:  ¦­W ªW¦¦£  May have sense: undefined\n",
      "Key:  197 Decoded:  ¥¬V©V¥¥¢  May have sense: undefined\n",
      "Key:  198 Decoded:  ",
      "¤«U¨U¤¤¡  May have sense: undefined\n",
      "Key:  199 Decoded:  £ªT§T££   May have sense: undefined\n",
      "Key:  200 Decoded:  ¢©S¦S¢¢  May have sense: undefined\n",
      "Key:  201 Decoded:  ¡¨R¥R¡¡  May have sense: undefined\n",
      "Key:  202 Decoded:   §Q¤Q    May have sense: undefined\n",
      "Key:  203 Decoded:  ¦P£P  May have sense: undefined\n",
      "Key:  204 Decoded:  ¥O¢O  May have sense: undefined\n",
      "Key:  205 Decoded:  ~¤N¡N  May have sense: undefined\n",
      "Key:  206 Decoded:  }£M M  May have sense: undefined\n",
      "Key:  207 Decoded:  |¢LL  May have sense: undefined\n",
      "Key:  208 Decoded:  {¡KK  May have sense: undefined\n",
      "Key:  209 Decoded:  z JJ  May have sense: undefined\n",
      "Key:  210 Decoded:  yII  May have sense: undefined\n",
      "Key:  211 Decoded:  xHH  May have sense: undefined\n",
      "Key:  212 Decoded:  wGG  May have sense: undefined\n",
      "Key:  213 Decoded:  vFF  May have sense: undefined\n",
      "Key:  214 Decoded:  uEE  May have sense: undefined\n",
      "Key:  215 Decoded:  t",
      "",
      "DD  May have sense: undefined\n",
      "Key:  216 Decoded:  sCC  May have sense: undefined\n",
      "Key:  217 Decoded:  rBB",
      "  May have sense: undefined\n",
      "Key:  218 Decoded:  q",
      "AA  May have sense: undefined\n",
      "Key:  219 Decoded:  p@@  May have sense: undefined\n",
      "Key:  220 Decoded:  o??  May have sense: undefined\n",
      "Key:  221 Decoded:  n>>  May have sense: undefined\n",
      "Key:  222 Decoded:  m~~==  May have sense: undefined\n",
      "Key:  223 Decoded:  l}}<",
      "<  May have sense: undefined\n",
      "Key:  224 Decoded:  k||;;~  May have sense: undefined\n",
      "Key:  225 Decoded:  j{~{::}  May have sense: undefined\n",
      "Key:  226 Decoded:  iz}z99|",
      "  May have sense: undefined\n",
      "Key:  227 Decoded:  hy|y88{  May have sense: undefined\n",
      "Key:  228 Decoded:  gx{x77z  May have sense: undefined\n",
      "Key:  229 Decoded:  fwz",
      "w66y",
      "",
      "  May have sense:  False\n",
      "Key:  230 Decoded:  evyv5~5x  May have sense: undefined\n",
      "Key:  231 Decoded:  duxu4}4w  May have sense: undefined\n",
      "Key:  232 Decoded:  ctwt3|3v  May have sense: undefined\n",
      "Key:  233 Decoded:  bsvs2{",
      "2u~  May have sense: undefined\n",
      "Key:  234 Decoded:  arur1z1t}  May have sense:  True\n",
      "Key:  235 Decoded:  `qtq0y0s|  May have sense: undefined\n",
      "Key:  236 Decoded:  _ps~",
      "p/x/r~~{  May have sense: undefined\n",
      "Key:  237 Decoded:  ^or}o.w.q}}z  May have sense:  True\n",
      "Key:  238 Decoded:  ]nq|n-v-p||y  May have sense:  True\n",
      "Key:  239 Decoded:  \\mp{m,u,o{{x  May have sense: undefined\n",
      "Key:  240 Decoded:  [lozl+t~+nzzw  May have sense:  False\n",
      "Key:  241 Decoded:  Zknyk*s}*myyv  May have sense:  False\n",
      "Key:  242 Decoded:  Yjmxj)r|)lxxu  May have sense: undefined\n",
      "Key:  243 Decoded:  Xilw~i(q{(kwwt  May have sense:  False\n",
      "Key:  244 Decoded:  Whkv}h'pz'jvvs  May have sense:  False\n",
      "Key:  245 Decoded:  Vgju|g&oy&iuur  May have sense:  False\n",
      "Key:  246 Decoded:  Ufit{f%nx%httq  May have sense:  False\n",
      "Key:  247 Decoded:  Tehsze$mw$gssp  May have sense:  False\n",
      "Key:  248 Decoded:  Sdgryd#lv#frro  May have sense:  False\n",
      "Key:  249 Decoded:  Rcfqxc\"ku\"eqqn  May have sense:  False\n",
      "Key:  250 Decoded:  Qbepwb!jt!dppm  May have sense:  False\n",
      "Key:  251 Decoded:  Padova is cool  May have sense:  True\n",
      "Key:  252 Decoded:  O`cnu`\u001fhr\u001fbnnk  May have sense: undefined\n",
      "Key:  253 Decoded:  N_bmt_\u001e",
      "gq\u001e",
      "ammj  May have sense: undefined\n",
      "Key:  254 Decoded:  M^als^\u001d",
      "fp\u001d",
      "`lli  May have sense: undefined\n",
      "Key:  255 Decoded:  L]`kr]\u001c",
      "eo\u001c",
      "_kkh  May have sense: undefined\n"
     ]
    }
   ],
   "source": [
    "for key in range(0,256): #[0,256)\n",
    "    #subtract key and nonce\n",
    "    text_decoded=text_ascii-nonce-key\n",
    "    #check for value out of range\n",
    "    text_decoded[np.where(text_decoded<0)] = text_decoded[np.where(text_decoded<0)] + 256   \n",
    "    text_reverted = ''.join(chr(a) for a in text_decoded)\n",
    "    if(nostril_flag):\n",
    "        try:\n",
    "            print(\"Key: \", key, \"Decoded: \", text_reverted, \" May have sense: \", not nostril.nonsense(text_reverted))\n",
    "            sensed_text.append((key, text_reverted))\n",
    "        except:\n",
    "            print(\"Key: \", key, \"Decoded: \", text_reverted, \" May have sense: undefined\")\n",
    "            pass\n",
    "    else:\n",
    "        print (\"Key: \", key, \" Decription: \",text_reverted) \n"
   ]
  },
  {
   "cell_type": "code",
   "execution_count": 15,
   "metadata": {},
   "outputs": [
    {
     "name": "stdout",
     "output_type": "stream",
     "text": [
      "Candidate sensed text:\n",
      "[(14, '=NQ\\\\cN\\rV`\\rP\\\\\\\\Y'), (15, '<MP[bM\\x0cU_\\x0cO[[X'), (16, ';LOZaL\\x0bT^\\x0bNZZW'), (17, ':KNY`K\\nS]\\nMYYV'), (18, '9JMX_J\\tR\\\\\\tLXXU'), (28, '/@CNU@ÿHRÿBNNK'), (29, '.?BMT?þGQþAMMJ'), (30, '->ALS>ýFPý@LLI'), (31, ',=@KR=üEOü?KKH'), (32, '+<?JQ<ûDNû>JJG'), (33, '*;>IP;úCMú=IIF'), (34, '):=HO:ùBLù<HHE'), (35, '(9<GN9øAKø;GGD'), (36, \"'8;FM8÷@J÷:FFC\"), (37, '&7:EL7ö?Iö9EEB'), (38, '%69DK6õ>Hõ8DDA'), (69, '\\x06\\x17\\x1a%,\\x17Ö\\x1f)Ö\\x19%%\"'), (70, '\\x05\\x16\\x19$+\\x16Õ\\x1e(Õ\\x18$$!'), (71, \"\\x04\\x15\\x18#*\\x15Ô\\x1d'Ô\\x17## \"), (72, '\\x03\\x14\\x17\")\\x14Ó\\x1c&Ó\\x16\"\"\\x1f'), (73, '\\x02\\x13\\x16!(\\x13Ò\\x1b%Ò\\x15!!\\x1e'), (74, \"\\x01\\x12\\x15 '\\x12Ñ\\x1a$Ñ\\x14  \\x1d\"), (75, '\\x00\\x11\\x14\\x1f&\\x11Ð\\x19#Ð\\x13\\x1f\\x1f\\x1c'), (76, 'ÿ\\x10\\x13\\x1e%\\x10Ï\\x18\"Ï\\x12\\x1e\\x1e\\x1b'), (77, 'þ\\x0f\\x12\\x1d$\\x0fÎ\\x17!Î\\x11\\x1d\\x1d\\x1a'), (78, 'ý\\x0e\\x11\\x1c#\\x0eÍ\\x16 Í\\x10\\x1c\\x1c\\x19'), (79, 'ü\\r\\x10\\x1b\"\\rÌ\\x15\\x1fÌ\\x0f\\x1b\\x1b\\x18'), (80, 'û\\x0c\\x0f\\x1a!\\x0cË\\x14\\x1eË\\x0e\\x1a\\x1a\\x17'), (81, 'ú\\x0b\\x0e\\x19 \\x0bÊ\\x13\\x1dÊ\\r\\x19\\x19\\x16'), (82, 'ù\\n\\r\\x18\\x1f\\nÉ\\x12\\x1cÉ\\x0c\\x18\\x18\\x15'), (83, 'ø\\t\\x0c\\x17\\x1e\\tÈ\\x11\\x1bÈ\\x0b\\x17\\x17\\x14'), (84, '÷\\x08\\x0b\\x16\\x1d\\x08Ç\\x10\\x1aÇ\\n\\x16\\x16\\x13'), (85, 'ö\\x07\\n\\x15\\x1c\\x07Æ\\x0f\\x19Æ\\t\\x15\\x15\\x12'), (86, 'õ\\x06\\t\\x14\\x1b\\x06Å\\x0e\\x18Å\\x08\\x14\\x14\\x11'), (87, 'ô\\x05\\x08\\x13\\x1a\\x05Ä\\r\\x17Ä\\x07\\x13\\x13\\x10'), (88, 'ó\\x04\\x07\\x12\\x19\\x04Ã\\x0c\\x16Ã\\x06\\x12\\x12\\x0f'), (89, 'ò\\x03\\x06\\x11\\x18\\x03Â\\x0b\\x15Â\\x05\\x11\\x11\\x0e'), (90, 'ñ\\x02\\x05\\x10\\x17\\x02Á\\n\\x14Á\\x04\\x10\\x10\\r'), (91, 'ð\\x01\\x04\\x0f\\x16\\x01À\\t\\x13À\\x03\\x0f\\x0f\\x0c'), (92, 'ï\\x00\\x03\\x0e\\x15\\x00¿\\x08\\x12¿\\x02\\x0e\\x0e\\x0b'), (98, 'éúý\\x08\\x0fú¹\\x02\\x0c¹ü\\x08\\x08\\x05'), (99, 'èùü\\x07\\x0eù¸\\x01\\x0b¸û\\x07\\x07\\x04'), (229, 'fwz\\x85\\x8cw6\\x7f\\x896y\\x85\\x85\\x82'), (234, 'aru\\x80\\x87r1z\\x841t\\x80\\x80}'), (237, '^or}\\x84o.w\\x81.q}}z'), (238, ']nq|\\x83n-v\\x80-p||y'), (240, '[loz\\x81l+t~+nzzw'), (241, 'Zkny\\x80k*s}*myyv'), (243, 'Xilw~i(q{(kwwt'), (244, \"Whkv}h'pz'jvvs\"), (245, 'Vgju|g&oy&iuur'), (246, 'Ufit{f%nx%httq'), (247, 'Tehsze$mw$gssp'), (248, 'Sdgryd#lv#frro'), (249, 'Rcfqxc\"ku\"eqqn'), (250, 'Qbepwb!jt!dppm'), (251, 'Padova is cool')]\n"
     ]
    }
   ],
   "source": [
    "if(nostril_flag):\n",
    "    print(\"Candidate sensed text:\")\n",
    "    print(sensed_text)\n",
    "    "
   ]
  },
  {
   "cell_type": "markdown",
   "metadata": {},
   "source": [
    "The used key is **251** and the original message text is **Padova is cool**"
   ]
  },
  {
   "cell_type": "markdown",
   "metadata": {},
   "source": [
    "## Ex 3"
   ]
  },
  {
   "cell_type": "code",
   "execution_count": 3,
   "metadata": {},
   "outputs": [],
   "source": [
    "import random\n",
    "import matplotlib.pyplot as plt"
   ]
  },
  {
   "cell_type": "code",
   "execution_count": 4,
   "metadata": {},
   "outputs": [
    {
     "name": "stdout",
     "output_type": "stream",
     "text": [
      "[ 890  900  810 1000  920  970  820  800  950  940]\n"
     ]
    },
    {
     "data": {
      "text/plain": [
       "<BarContainer object of 10 artists>"
      ]
     },
     "execution_count": 4,
     "metadata": {},
     "output_type": "execute_result"
    },
    {
     "data": {
      "image/png": "[encoded data removed]",
      "text/plain": [
       "<Figure size 432x288 with 1 Axes>"
      ]
     },
     "metadata": {
      "needs_background": "light"
     },
     "output_type": "display_data"
    }
   ],
   "source": [
    "disks= np.array([0]*10)\n",
    "while(np.max(disks)<1000):\n",
    "    disk= random.randint(0, 9)\n",
    "    disks[disk]+=10\n",
    "print(disks)\n",
    "\n",
    "plt.bar(np.linspace(0,9, 10),disks)"
   ]
  },
  {
   "cell_type": "code",
   "execution_count": 5,
   "metadata": {},
   "outputs": [],
   "source": [
    "def FreeSpace(filesize = 10, graph=True, verbose=True, retu=False):\n",
    "    disks= np.array([0.]*10)\n",
    "    while(np.max(disks)<1000):\n",
    "        disk= random.randint(0, 9)\n",
    "        disks[disk]+=filesize\n",
    "    placed = np.sum(disks)/filesize\n",
    "    free = (10000-np.sum(disks))/100 #10000*100\n",
    "    if graph:\n",
    "        plt.bar(np.linspace(0,9, 10),disks)\n",
    "    if verbose:\n",
    "        print(\"Disks occupation:\", disks)\n",
    "        print(\"Placed files:    \", placed)\n",
    "        print(\"Free space left: \", free, \"%\")  \n",
    "    if(retu):\n",
    "        return placed, free\n",
    "\n"
   ]
  },
  {
   "cell_type": "code",
   "execution_count": 6,
   "metadata": {},
   "outputs": [
    {
     "name": "stdout",
     "output_type": "stream",
     "text": [
      "Disks occupation: [1000.  940.  940.  910.  870.  890.  840.  870.  970.  870.]\n",
      "Placed files:     910.0\n",
      "Free space left:  9.0 %\n"
     ]
    },
    {
     "data": {
      "image/png": "[encoded data removed]",
      "text/plain": [
       "<Figure size 432x288 with 1 Axes>"
      ]
     },
     "metadata": {
      "needs_background": "light"
     },
     "output_type": "display_data"
    }
   ],
   "source": [
    "FreeSpace(10)\n"
   ]
  },
  {
   "cell_type": "code",
   "execution_count": 7,
   "metadata": {},
   "outputs": [
    {
     "name": "stdout",
     "output_type": "stream",
     "text": [
      "Disks occupation: [ 908.  927.  970.  986.  933. 1000.  947.  922.  981.  974.]\n",
      "Placed files:     9548.0\n",
      "Free space left:  4.52 %\n"
     ]
    },
    {
     "data": {
      "image/png": "[encoded data removed]",
      "text/plain": [
       "<Figure size 432x288 with 1 Axes>"
      ]
     },
     "metadata": {
      "needs_background": "light"
     },
     "output_type": "display_data"
    }
   ],
   "source": [
    "FreeSpace(1)"
   ]
  },
  {
   "cell_type": "code",
   "execution_count": 8,
   "metadata": {},
   "outputs": [
    {
     "data": {
      "text/plain": [
       "<matplotlib.legend.Legend at 0x7f5933fe7e10>"
      ]
     },
     "execution_count": 8,
     "metadata": {},
     "output_type": "execute_result"
    },
    {
     "data": {
      "image/png": "[encoded data removed]",
      "text/plain": [
       "<Figure size 432x288 with 1 Axes>"
      ]
     },
     "metadata": {
      "needs_background": "light"
     },
     "output_type": "display_data"
    }
   ],
   "source": [
    "sizes= np.linspace(0.2, 10, 50)\n",
    "y=[]\n",
    "\n",
    "for size in sizes:\n",
    "    p,f= FreeSpace(size, False, False, True)\n",
    "    y.append(f)\n",
    "    \n",
    "plt.plot(sizes, y, label='Free Space Left')\n",
    "plt.xlabel(\"File size\")\n",
    "plt.title(\"Free space left dependeny on the File Size\")\n",
    "plt.legend()\n",
    "    \n"
   ]
  },
  {
   "cell_type": "code",
   "execution_count": 9,
   "metadata": {},
   "outputs": [
    {
     "data": {
      "text/plain": [
       "<matplotlib.legend.Legend at 0x7f5933fb3f98>"
      ]
     },
     "execution_count": 9,
     "metadata": {},
     "output_type": "execute_result"
    },
    {
     "data": {
      "image/png": "[encoded data removed]",
      "text/plain": [
       "<Figure size 432x288 with 1 Axes>"
      ]
     },
     "metadata": {
      "needs_background": "light"
     },
     "output_type": "display_data"
    }
   ],
   "source": [
    "load= 5\n",
    "sizes= np.linspace(0.2, 10, 10*load)\n",
    "y=[]\n",
    "\n",
    "for size in sizes:\n",
    "    vals=[]\n",
    "    for i in range(0,load):\n",
    "        p,f= FreeSpace(size, False, False, True)\n",
    "        vals.append(f)\n",
    "    y.append(np.mean(np.array(vals)))\n",
    " \n",
    "\n",
    "plt.plot(sizes, y, label='Free Space Left')\n",
    "plt.xlabel(\"File size\")\n",
    "plt.title(\"Free space left dependeny on the File Size\")\n",
    "plt.legend()\n",
    "    "
   ]
  },
  {
   "cell_type": "code",
   "execution_count": null,
   "metadata": {},
   "outputs": [],
   "source": []
  }
 ],
 "metadata": {
  "kernelspec": {
   "display_name": "Python 3",
   "language": "python",
   "name": "python3"
  },
  "language_info": {
   "codemirror_mode": {
    "name": "ipython",
    "version": 3
   },
   "file_extension": ".py",
   "mimetype": "text/x-python",
   "name": "python",
   "nbconvert_exporter": "python",
   "pygments_lexer": "ipython3",
   "version": "3.7.3"
  }
 },
 "nbformat": 4,
 "nbformat_minor": 4
}
